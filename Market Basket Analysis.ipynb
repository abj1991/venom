{
 "cells": [
  {
   "cell_type": "code",
   "execution_count": 1,
   "metadata": {},
   "outputs": [],
   "source": [
    "import numpy as np\n",
    "import pandas as pd\n",
    "import matplotlib.pyplot as plt\n",
    "import seaborn as sns\n",
    "import sklearn\n",
    "% matplotlib inline"
   ]
  },
  {
   "cell_type": "code",
   "execution_count": 2,
   "metadata": {},
   "outputs": [],
   "source": [
    "# Import data\n",
    "market = pd.read_csv('BreadBasket_DMS.csv')"
   ]
  },
  {
   "cell_type": "code",
   "execution_count": 3,
   "metadata": {},
   "outputs": [
    {
     "data": {
      "text/html": [
       "<div>\n",
       "<style scoped>\n",
       "    .dataframe tbody tr th:only-of-type {\n",
       "        vertical-align: middle;\n",
       "    }\n",
       "\n",
       "    .dataframe tbody tr th {\n",
       "        vertical-align: top;\n",
       "    }\n",
       "\n",
       "    .dataframe thead th {\n",
       "        text-align: right;\n",
       "    }\n",
       "</style>\n",
       "<table border=\"1\" class=\"dataframe\">\n",
       "  <thead>\n",
       "    <tr style=\"text-align: right;\">\n",
       "      <th></th>\n",
       "      <th>Date</th>\n",
       "      <th>Time</th>\n",
       "      <th>Transaction</th>\n",
       "      <th>Item</th>\n",
       "    </tr>\n",
       "  </thead>\n",
       "  <tbody>\n",
       "    <tr>\n",
       "      <th>0</th>\n",
       "      <td>2016-10-30</td>\n",
       "      <td>09:58:11</td>\n",
       "      <td>1</td>\n",
       "      <td>Bread</td>\n",
       "    </tr>\n",
       "    <tr>\n",
       "      <th>1</th>\n",
       "      <td>2016-10-30</td>\n",
       "      <td>10:05:34</td>\n",
       "      <td>2</td>\n",
       "      <td>Scandinavian</td>\n",
       "    </tr>\n",
       "    <tr>\n",
       "      <th>2</th>\n",
       "      <td>2016-10-30</td>\n",
       "      <td>10:05:34</td>\n",
       "      <td>2</td>\n",
       "      <td>Scandinavian</td>\n",
       "    </tr>\n",
       "    <tr>\n",
       "      <th>3</th>\n",
       "      <td>2016-10-30</td>\n",
       "      <td>10:07:57</td>\n",
       "      <td>3</td>\n",
       "      <td>Hot chocolate</td>\n",
       "    </tr>\n",
       "    <tr>\n",
       "      <th>4</th>\n",
       "      <td>2016-10-30</td>\n",
       "      <td>10:07:57</td>\n",
       "      <td>3</td>\n",
       "      <td>Jam</td>\n",
       "    </tr>\n",
       "  </tbody>\n",
       "</table>\n",
       "</div>"
      ],
      "text/plain": [
       "         Date      Time  Transaction           Item\n",
       "0  2016-10-30  09:58:11            1          Bread\n",
       "1  2016-10-30  10:05:34            2   Scandinavian\n",
       "2  2016-10-30  10:05:34            2   Scandinavian\n",
       "3  2016-10-30  10:07:57            3  Hot chocolate\n",
       "4  2016-10-30  10:07:57            3            Jam"
      ]
     },
     "execution_count": 3,
     "metadata": {},
     "output_type": "execute_result"
    }
   ],
   "source": [
    "# Chech Top 5 rows\n",
    "market.head()"
   ]
  },
  {
   "cell_type": "code",
   "execution_count": 4,
   "metadata": {},
   "outputs": [
    {
     "name": "stdout",
     "output_type": "stream",
     "text": [
      "<class 'pandas.core.frame.DataFrame'>\n",
      "RangeIndex: 21293 entries, 0 to 21292\n",
      "Data columns (total 4 columns):\n",
      "Date           21293 non-null object\n",
      "Time           21293 non-null object\n",
      "Transaction    21293 non-null int64\n",
      "Item           21293 non-null object\n",
      "dtypes: int64(1), object(3)\n",
      "memory usage: 665.5+ KB\n"
     ]
    }
   ],
   "source": [
    "# Check data type\n",
    "market.info()"
   ]
  },
  {
   "cell_type": "code",
   "execution_count": 5,
   "metadata": {},
   "outputs": [],
   "source": [
    "# Convert into object to Datatime function\n",
    "market['Date']= pd.to_datetime(market['Date'])\n",
    "market['Time'] =pd.to_datetime(market['Time'])"
   ]
  },
  {
   "cell_type": "code",
   "execution_count": 6,
   "metadata": {},
   "outputs": [
    {
     "name": "stdout",
     "output_type": "stream",
     "text": [
      "<class 'pandas.core.frame.DataFrame'>\n",
      "RangeIndex: 21293 entries, 0 to 21292\n",
      "Data columns (total 4 columns):\n",
      "Date           21293 non-null datetime64[ns]\n",
      "Time           21293 non-null datetime64[ns]\n",
      "Transaction    21293 non-null int64\n",
      "Item           21293 non-null object\n",
      "dtypes: datetime64[ns](2), int64(1), object(1)\n",
      "memory usage: 665.5+ KB\n"
     ]
    }
   ],
   "source": [
    "market.info()"
   ]
  },
  {
   "cell_type": "code",
   "execution_count": 7,
   "metadata": {},
   "outputs": [
    {
     "data": {
      "text/plain": [
       "(21293, 4)"
      ]
     },
     "execution_count": 7,
     "metadata": {},
     "output_type": "execute_result"
    }
   ],
   "source": [
    "market.shape"
   ]
  },
  {
   "cell_type": "code",
   "execution_count": 8,
   "metadata": {},
   "outputs": [
    {
     "data": {
      "text/plain": [
       "Coffee           5471\n",
       "Bread            3325\n",
       "Tea              1435\n",
       "Cake             1025\n",
       "Pastry            856\n",
       "NONE              786\n",
       "Sandwich          771\n",
       "Medialuna         616\n",
       "Hot chocolate     590\n",
       "Cookies           540\n",
       "Brownie           379\n",
       "Farm House        374\n",
       "Muffin            370\n",
       "Alfajores         369\n",
       "Juice             369\n",
       "Name: Item, dtype: int64"
      ]
     },
     "execution_count": 8,
     "metadata": {},
     "output_type": "execute_result"
    }
   ],
   "source": [
    "market['Item'].value_counts().head(15)"
   ]
  },
  {
   "cell_type": "code",
   "execution_count": 9,
   "metadata": {},
   "outputs": [
    {
     "name": "stdout",
     "output_type": "stream",
     "text": [
      "            Date                Time  Transaction  Item\n",
      "26    2016-10-30 2018-10-19 10:27:21           11  NONE\n",
      "38    2016-10-30 2018-10-19 10:34:36           15  NONE\n",
      "39    2016-10-30 2018-10-19 10:34:36           15  NONE\n",
      "66    2016-10-30 2018-10-19 11:05:30           29  NONE\n",
      "80    2016-10-30 2018-10-19 11:37:10           37  NONE\n",
      "85    2016-10-30 2018-10-19 11:55:51           40  NONE\n",
      "126   2016-10-30 2018-10-19 13:02:04           59  NONE\n",
      "140   2016-10-30 2018-10-19 13:37:25           65  NONE\n",
      "149   2016-10-30 2018-10-19 13:46:48           67  NONE\n",
      "167   2016-10-30 2018-10-19 14:32:26           75  NONE\n",
      "183   2016-10-31 2018-10-19 08:47:05           82  NONE\n",
      "201   2016-10-31 2018-10-19 09:22:48           91  NONE\n",
      "226   2016-10-31 2018-10-19 10:07:40          103  NONE\n",
      "235   2016-10-31 2018-10-19 10:21:29          105  NONE\n",
      "272   2016-10-31 2018-10-19 11:42:05          123  NONE\n",
      "282   2016-10-31 2018-10-19 11:55:00          128  NONE\n",
      "398   2016-11-01 2018-10-19 09:26:03          184  NONE\n",
      "413   2016-11-01 2018-10-19 10:56:08          192  NONE\n",
      "419   2016-11-01 2018-10-19 11:06:09          195  NONE\n",
      "431   2016-11-01 2018-10-19 11:22:36          201  NONE\n",
      "547   2016-11-02 2018-10-19 08:07:05          257  NONE\n",
      "560   2016-11-02 2018-10-19 09:05:25          266  NONE\n",
      "577   2016-11-02 2018-10-19 09:52:58          274  NONE\n",
      "587   2016-11-02 2018-10-19 10:15:48          279  NONE\n",
      "628   2016-11-02 2018-10-19 12:11:56          298  NONE\n",
      "718   2016-11-03 2018-10-19 08:15:21          346  NONE\n",
      "726   2016-11-03 2018-10-19 08:49:23          348  NONE\n",
      "788   2016-11-03 2018-10-19 11:51:52          380  NONE\n",
      "808   2016-11-03 2018-10-19 12:16:15          387  NONE\n",
      "810   2016-11-03 2018-10-19 12:23:47          388  NONE\n",
      "...          ...                 ...          ...   ...\n",
      "20232 2017-04-01 2018-10-19 13:36:26         9211  NONE\n",
      "20285 2017-04-02 2018-10-19 09:49:32         9232  NONE\n",
      "20289 2017-04-02 2018-10-19 09:51:23         9234  NONE\n",
      "20316 2017-04-02 2018-10-19 10:50:11         9245  NONE\n",
      "20332 2017-04-02 2018-10-19 12:00:43         9254  NONE\n",
      "20352 2017-04-02 2018-10-19 13:19:35         9261  NONE\n",
      "20376 2017-04-02 2018-10-19 15:01:07         9270  NONE\n",
      "20391 2017-04-02 2018-10-19 15:22:05         9274  NONE\n",
      "20412 2017-04-03 2018-10-19 10:09:47         9286  NONE\n",
      "20429 2017-04-03 2018-10-19 10:45:41         9293  NONE\n",
      "20460 2017-04-03 2018-10-19 13:24:13         9309  NONE\n",
      "20526 2017-04-04 2018-10-19 07:58:54         9339  NONE\n",
      "20538 2017-04-04 2018-10-19 09:04:01         9346  NONE\n",
      "20573 2017-04-04 2018-10-19 12:18:12         9366  NONE\n",
      "20574 2017-04-04 2018-10-19 12:18:56         9367  NONE\n",
      "20577 2017-04-04 2018-10-19 12:19:48         9368  NONE\n",
      "20678 2017-04-05 2018-10-19 11:02:01         9406  NONE\n",
      "20686 2017-04-05 2018-10-19 11:05:00         9407  NONE\n",
      "20799 2017-04-06 2018-10-19 09:28:32         9457  NONE\n",
      "20917 2017-04-07 2018-10-19 08:47:29         9506  NONE\n",
      "20919 2017-04-07 2018-10-19 08:57:19         9507  NONE\n",
      "20964 2017-04-07 2018-10-19 13:06:01         9529  NONE\n",
      "21010 2017-04-07 2018-10-19 17:30:07         9550  NONE\n",
      "21077 2017-04-08 2018-10-19 10:44:44         9579  NONE\n",
      "21080 2017-04-08 2018-10-19 10:48:43         9580  NONE\n",
      "21108 2017-04-08 2018-10-19 11:54:22         9590  NONE\n",
      "21122 2017-04-08 2018-10-19 12:58:25         9599  NONE\n",
      "21254 2017-04-09 2018-10-19 12:01:07         9666  NONE\n",
      "21255 2017-04-09 2018-10-19 12:04:13         9667  NONE\n",
      "21266 2017-04-09 2018-10-19 12:31:28         9672  NONE\n",
      "\n",
      "[786 rows x 4 columns]\n"
     ]
    }
   ],
   "source": [
    "print(market[market['Item']== 'NONE'])"
   ]
  },
  {
   "cell_type": "code",
   "execution_count": 10,
   "metadata": {},
   "outputs": [],
   "source": [
    "market.drop(market[market['Item']== 'NONE'].index, inplace= True)"
   ]
  },
  {
   "cell_type": "code",
   "execution_count": 11,
   "metadata": {},
   "outputs": [
    {
     "data": {
      "text/plain": [
       "(20507, 4)"
      ]
     },
     "execution_count": 11,
     "metadata": {},
     "output_type": "execute_result"
    }
   ],
   "source": [
    "market.shape"
   ]
  },
  {
   "cell_type": "code",
   "execution_count": 33,
   "metadata": {},
   "outputs": [
    {
     "data": {
      "text/plain": [
       "Text(0.5,1,'Items Most Sold')"
      ]
     },
     "execution_count": 33,
     "metadata": {},
     "output_type": "execute_result"
    },
    {
     "data": {
      "image/png": "[encoded data removed]",
      "text/plain": [
       "<matplotlib.figure.Figure at 0x20d322844a8>"
      ]
     },
     "metadata": {},
     "output_type": "display_data"
    }
   ],
   "source": [
    "plt.figure(figsize=(15,5))\n",
    "most_sold = market['Item'].value_counts().head(10).plot(kind= 'bar')\n",
    "plt.title('Items Most Sold')"
   ]
  },
  {
   "cell_type": "code",
   "execution_count": 13,
   "metadata": {},
   "outputs": [],
   "source": [
    "market['Year']= market['Date'].dt.year"
   ]
  },
  {
   "cell_type": "code",
   "execution_count": 14,
   "metadata": {},
   "outputs": [],
   "source": [
    "market['Month']= market['Date'].dt.month"
   ]
  },
  {
   "cell_type": "code",
   "execution_count": 15,
   "metadata": {},
   "outputs": [],
   "source": [
    "market['Day']= market['Date'].dt.day"
   ]
  },
  {
   "cell_type": "code",
   "execution_count": 16,
   "metadata": {},
   "outputs": [],
   "source": [
    "market[\"Day's_of_Week\" ] = market['Date'].dt.weekday"
   ]
  },
  {
   "cell_type": "code",
   "execution_count": 17,
   "metadata": {},
   "outputs": [
    {
     "data": {
      "text/html": [
       "<div>\n",
       "<style scoped>\n",
       "    .dataframe tbody tr th:only-of-type {\n",
       "        vertical-align: middle;\n",
       "    }\n",
       "\n",
       "    .dataframe tbody tr th {\n",
       "        vertical-align: top;\n",
       "    }\n",
       "\n",
       "    .dataframe thead th {\n",
       "        text-align: right;\n",
       "    }\n",
       "</style>\n",
       "<table border=\"1\" class=\"dataframe\">\n",
       "  <thead>\n",
       "    <tr style=\"text-align: right;\">\n",
       "      <th></th>\n",
       "      <th>Date</th>\n",
       "      <th>Time</th>\n",
       "      <th>Transaction</th>\n",
       "      <th>Item</th>\n",
       "      <th>Year</th>\n",
       "      <th>Month</th>\n",
       "      <th>Day</th>\n",
       "      <th>Day's_of_Week</th>\n",
       "    </tr>\n",
       "  </thead>\n",
       "  <tbody>\n",
       "    <tr>\n",
       "      <th>0</th>\n",
       "      <td>2016-10-30</td>\n",
       "      <td>2018-10-19 09:58:11</td>\n",
       "      <td>1</td>\n",
       "      <td>Bread</td>\n",
       "      <td>2016</td>\n",
       "      <td>10</td>\n",
       "      <td>30</td>\n",
       "      <td>6</td>\n",
       "    </tr>\n",
       "    <tr>\n",
       "      <th>1</th>\n",
       "      <td>2016-10-30</td>\n",
       "      <td>2018-10-19 10:05:34</td>\n",
       "      <td>2</td>\n",
       "      <td>Scandinavian</td>\n",
       "      <td>2016</td>\n",
       "      <td>10</td>\n",
       "      <td>30</td>\n",
       "      <td>6</td>\n",
       "    </tr>\n",
       "    <tr>\n",
       "      <th>2</th>\n",
       "      <td>2016-10-30</td>\n",
       "      <td>2018-10-19 10:05:34</td>\n",
       "      <td>2</td>\n",
       "      <td>Scandinavian</td>\n",
       "      <td>2016</td>\n",
       "      <td>10</td>\n",
       "      <td>30</td>\n",
       "      <td>6</td>\n",
       "    </tr>\n",
       "    <tr>\n",
       "      <th>3</th>\n",
       "      <td>2016-10-30</td>\n",
       "      <td>2018-10-19 10:07:57</td>\n",
       "      <td>3</td>\n",
       "      <td>Hot chocolate</td>\n",
       "      <td>2016</td>\n",
       "      <td>10</td>\n",
       "      <td>30</td>\n",
       "      <td>6</td>\n",
       "    </tr>\n",
       "    <tr>\n",
       "      <th>4</th>\n",
       "      <td>2016-10-30</td>\n",
       "      <td>2018-10-19 10:07:57</td>\n",
       "      <td>3</td>\n",
       "      <td>Jam</td>\n",
       "      <td>2016</td>\n",
       "      <td>10</td>\n",
       "      <td>30</td>\n",
       "      <td>6</td>\n",
       "    </tr>\n",
       "  </tbody>\n",
       "</table>\n",
       "</div>"
      ],
      "text/plain": [
       "        Date                Time  Transaction           Item  Year  Month  \\\n",
       "0 2016-10-30 2018-10-19 09:58:11            1          Bread  2016     10   \n",
       "1 2016-10-30 2018-10-19 10:05:34            2   Scandinavian  2016     10   \n",
       "2 2016-10-30 2018-10-19 10:05:34            2   Scandinavian  2016     10   \n",
       "3 2016-10-30 2018-10-19 10:07:57            3  Hot chocolate  2016     10   \n",
       "4 2016-10-30 2018-10-19 10:07:57            3            Jam  2016     10   \n",
       "\n",
       "   Day  Day's_of_Week  \n",
       "0   30              6  \n",
       "1   30              6  \n",
       "2   30              6  \n",
       "3   30              6  \n",
       "4   30              6  "
      ]
     },
     "execution_count": 17,
     "metadata": {},
     "output_type": "execute_result"
    }
   ],
   "source": [
    "market.head()"
   ]
  },
  {
   "cell_type": "code",
   "execution_count": 18,
   "metadata": {},
   "outputs": [
    {
     "data": {
      "text/plain": [
       "Index(['Date', 'Time', 'Transaction', 'Item', 'Year', 'Month', 'Day',\n",
       "       'Day's_of_Week'],\n",
       "      dtype='object')"
      ]
     },
     "execution_count": 18,
     "metadata": {},
     "output_type": "execute_result"
    }
   ],
   "source": [
    "market.columns"
   ]
  },
  {
   "cell_type": "code",
   "execution_count": 19,
   "metadata": {},
   "outputs": [
    {
     "data": {
      "text/plain": [
       "array([10, 11, 12,  1,  2,  3,  4], dtype=int64)"
      ]
     },
     "execution_count": 19,
     "metadata": {},
     "output_type": "execute_result"
    }
   ],
   "source": [
    "market['Month'].unique()"
   ]
  },
  {
   "cell_type": "code",
   "execution_count": 20,
   "metadata": {},
   "outputs": [],
   "source": [
    "Month_Name = []\n",
    "\n",
    "for i in market['Month']:\n",
    "    if i == 1:\n",
    "        Month_Name.append('January')\n",
    "    elif i == 2 :\n",
    "        Month_Name.append('February')\n",
    "    elif i ==3:\n",
    "        Month_Name.append('March')\n",
    "    elif i == 4: \n",
    "        Month_Name.append('April')\n",
    "    elif i == 10:\n",
    "        Month_Name.append('October')\n",
    "    elif i == 11:\n",
    "        Month_Name.append('November')\n",
    "    elif i == 12:\n",
    "        Month_Name.append('December')\n",
    "    \n",
    "market['Month_Name'] = Month_Name"
   ]
  },
  {
   "cell_type": "code",
   "execution_count": 21,
   "metadata": {},
   "outputs": [
    {
     "data": {
      "text/html": [
       "<div>\n",
       "<style scoped>\n",
       "    .dataframe tbody tr th:only-of-type {\n",
       "        vertical-align: middle;\n",
       "    }\n",
       "\n",
       "    .dataframe tbody tr th {\n",
       "        vertical-align: top;\n",
       "    }\n",
       "\n",
       "    .dataframe thead th {\n",
       "        text-align: right;\n",
       "    }\n",
       "</style>\n",
       "<table border=\"1\" class=\"dataframe\">\n",
       "  <thead>\n",
       "    <tr style=\"text-align: right;\">\n",
       "      <th></th>\n",
       "      <th>Date</th>\n",
       "      <th>Time</th>\n",
       "      <th>Transaction</th>\n",
       "      <th>Item</th>\n",
       "      <th>Year</th>\n",
       "      <th>Month</th>\n",
       "      <th>Day</th>\n",
       "      <th>Day's_of_Week</th>\n",
       "      <th>Month_Name</th>\n",
       "    </tr>\n",
       "  </thead>\n",
       "  <tbody>\n",
       "    <tr>\n",
       "      <th>0</th>\n",
       "      <td>2016-10-30</td>\n",
       "      <td>2018-10-19 09:58:11</td>\n",
       "      <td>1</td>\n",
       "      <td>Bread</td>\n",
       "      <td>2016</td>\n",
       "      <td>10</td>\n",
       "      <td>30</td>\n",
       "      <td>6</td>\n",
       "      <td>October</td>\n",
       "    </tr>\n",
       "    <tr>\n",
       "      <th>1</th>\n",
       "      <td>2016-10-30</td>\n",
       "      <td>2018-10-19 10:05:34</td>\n",
       "      <td>2</td>\n",
       "      <td>Scandinavian</td>\n",
       "      <td>2016</td>\n",
       "      <td>10</td>\n",
       "      <td>30</td>\n",
       "      <td>6</td>\n",
       "      <td>October</td>\n",
       "    </tr>\n",
       "    <tr>\n",
       "      <th>2</th>\n",
       "      <td>2016-10-30</td>\n",
       "      <td>2018-10-19 10:05:34</td>\n",
       "      <td>2</td>\n",
       "      <td>Scandinavian</td>\n",
       "      <td>2016</td>\n",
       "      <td>10</td>\n",
       "      <td>30</td>\n",
       "      <td>6</td>\n",
       "      <td>October</td>\n",
       "    </tr>\n",
       "    <tr>\n",
       "      <th>3</th>\n",
       "      <td>2016-10-30</td>\n",
       "      <td>2018-10-19 10:07:57</td>\n",
       "      <td>3</td>\n",
       "      <td>Hot chocolate</td>\n",
       "      <td>2016</td>\n",
       "      <td>10</td>\n",
       "      <td>30</td>\n",
       "      <td>6</td>\n",
       "      <td>October</td>\n",
       "    </tr>\n",
       "    <tr>\n",
       "      <th>4</th>\n",
       "      <td>2016-10-30</td>\n",
       "      <td>2018-10-19 10:07:57</td>\n",
       "      <td>3</td>\n",
       "      <td>Jam</td>\n",
       "      <td>2016</td>\n",
       "      <td>10</td>\n",
       "      <td>30</td>\n",
       "      <td>6</td>\n",
       "      <td>October</td>\n",
       "    </tr>\n",
       "  </tbody>\n",
       "</table>\n",
       "</div>"
      ],
      "text/plain": [
       "        Date                Time  Transaction           Item  Year  Month  \\\n",
       "0 2016-10-30 2018-10-19 09:58:11            1          Bread  2016     10   \n",
       "1 2016-10-30 2018-10-19 10:05:34            2   Scandinavian  2016     10   \n",
       "2 2016-10-30 2018-10-19 10:05:34            2   Scandinavian  2016     10   \n",
       "3 2016-10-30 2018-10-19 10:07:57            3  Hot chocolate  2016     10   \n",
       "4 2016-10-30 2018-10-19 10:07:57            3            Jam  2016     10   \n",
       "\n",
       "   Day  Day's_of_Week Month_Name  \n",
       "0   30              6    October  \n",
       "1   30              6    October  \n",
       "2   30              6    October  \n",
       "3   30              6    October  \n",
       "4   30              6    October  "
      ]
     },
     "execution_count": 21,
     "metadata": {},
     "output_type": "execute_result"
    }
   ],
   "source": [
    "market.head()"
   ]
  },
  {
   "cell_type": "code",
   "execution_count": 22,
   "metadata": {},
   "outputs": [],
   "source": [
    "market = pd.DataFrame(market)"
   ]
  },
  {
   "cell_type": "code",
   "execution_count": 50,
   "metadata": {},
   "outputs": [
    {
     "data": {
      "text/plain": [
       "Year\n",
       "2016    3987\n",
       "2017    5478\n",
       "Name: Transaction, dtype: int64"
      ]
     },
     "execution_count": 50,
     "metadata": {},
     "output_type": "execute_result"
    }
   ],
   "source": [
    "# Best Years\n",
    "market.groupby('Year')['Transaction'].nunique()"
   ]
  },
  {
   "cell_type": "code",
   "execution_count": 37,
   "metadata": {},
   "outputs": [
    {
     "data": {
      "text/plain": [
       "Text(0.5,1,'Monthly Sales')"
      ]
     },
     "execution_count": 37,
     "metadata": {},
     "output_type": "execute_result"
    },
    {
     "data": {
      "image/png": "[encoded data removed]",
      "text/plain": [
       "<matplotlib.figure.Figure at 0x20d32ee9cc0>"
      ]
     },
     "metadata": {},
     "output_type": "display_data"
    }
   ],
   "source": [
    "# Monthly Sales\n",
    "plt.Figure(figsize=(20,10))\n",
    "market.groupby('Month_Name')['Transaction'].nunique().plot(kind= 'bar')\n",
    "plt.title('Monthly Sales')"
   ]
  },
  {
   "cell_type": "code",
   "execution_count": 25,
   "metadata": {},
   "outputs": [
    {
     "data": {
      "text/plain": [
       "Month_Name\n",
       "April        9\n",
       "December    29\n",
       "February    28\n",
       "January     30\n",
       "March       31\n",
       "November    30\n",
       "October      2\n",
       "Name: Day, dtype: int64"
      ]
     },
     "execution_count": 25,
     "metadata": {},
     "output_type": "execute_result"
    }
   ],
   "source": [
    "market.groupby('Month_Name')['Day'].nunique()"
   ]
  },
  {
   "cell_type": "code",
   "execution_count": 26,
   "metadata": {},
   "outputs": [],
   "source": [
    "market['Hour'] = market['Time'].dt.hour"
   ]
  },
  {
   "cell_type": "code",
   "execution_count": 42,
   "metadata": {},
   "outputs": [
    {
     "data": {
      "text/plain": [
       "Text(0.5,1,'Busiest Hour of the Day ')"
      ]
     },
     "execution_count": 42,
     "metadata": {},
     "output_type": "execute_result"
    },
    {
     "data": {
      "image/png": "[encoded data removed]",
      "text/plain": [
       "<matplotlib.figure.Figure at 0x20d3aee7208>"
      ]
     },
     "metadata": {},
     "output_type": "display_data"
    }
   ],
   "source": [
    "# Busiest Hour of the Day \n",
    "market.groupby('Hour')['Transaction'].nunique().plot(kind= 'bar', figsize= (10,5))\n",
    "plt.title('Busiest Hour of the Day ')"
   ]
  },
  {
   "cell_type": "code",
   "execution_count": 28,
   "metadata": {},
   "outputs": [],
   "source": [
    "weekday_names=[ 'Monday', 'Tuesday', 'Wednesday', 'Thursday', 'Friday', 'Saturday', 'Sunday']"
   ]
  },
  {
   "cell_type": "code",
   "execution_count": 29,
   "metadata": {},
   "outputs": [],
   "source": [
    "Weekday_number=[0,1,2,3,4,5,6]"
   ]
  },
  {
   "cell_type": "code",
   "execution_count": 43,
   "metadata": {},
   "outputs": [
    {
     "data": {
      "text/plain": [
       "Text(0.5,1,'Busiest Day of the Week')"
      ]
     },
     "execution_count": 43,
     "metadata": {},
     "output_type": "execute_result"
    },
    {
     "data": {
      "image/png": "[encoded data removed]",
      "text/plain": [
       "<matplotlib.figure.Figure at 0x20d3be4a780>"
      ]
     },
     "metadata": {},
     "output_type": "display_data"
    }
   ],
   "source": [
    "# Busiest Day of the Week\n",
    "week_df = market['Date'].dt.weekday.groupby(market['Date'].dt.weekday).count().reindex(Weekday_number).plot(kind= 'bar')\n",
    "plt.title('Busiest Day of the Week')"
   ]
  },
  {
   "cell_type": "code",
   "execution_count": 47,
   "metadata": {},
   "outputs": [
    {
     "name": "stderr",
     "output_type": "stream",
     "text": [
      "C:\\ProgramData\\Anaconda3\\lib\\site-packages\\matplotlib\\legend.py:638: UserWarning: Unrecognized location \"Best\". Falling back on \"best\"; valid locations are\n",
      "\tbest\n",
      "\tupper right\n",
      "\tupper left\n",
      "\tlower left\n",
      "\tlower right\n",
      "\tright\n",
      "\tcenter left\n",
      "\tcenter right\n",
      "\tlower center\n",
      "\tupper center\n",
      "\tcenter\n",
      "\n",
      "  % (loc, '\\n\\t'.join(self.codes)))\n"
     ]
    },
    {
     "data": {
      "text/plain": [
       "<matplotlib.legend.Legend at 0x20d3c6fd080>"
      ]
     },
     "execution_count": 47,
     "metadata": {},
     "output_type": "execute_result"
    },
    {
     "data": {
      "image/png": "[encoded data removed]",
      "text/plain": [
       "<matplotlib.figure.Figure at 0x20d3ba05400>"
      ]
     },
     "metadata": {},
     "output_type": "display_data"
    }
   ],
   "source": [
    "# Daily Transaction\n",
    "market.groupby('Date')['Transaction'].nunique().plot(figsize= (15,5), label ='Daily Number of Transaction')\n",
    "market.groupby('Date')['Transaction'].size().plot(figsize= (15,5), label ='Daily Number of Item Sold')\n",
    "plt.legend(loc= 'Best')"
   ]
  },
  {
   "cell_type": "code",
   "execution_count": null,
   "metadata": {},
   "outputs": [],
   "source": []
  }
 ],
 "metadata": {
  "kernelspec": {
   "display_name": "Python 3",
   "language": "python",
   "name": "python3"
  },
  "language_info": {
   "codemirror_mode": {
    "name": "ipython",
    "version": 3
   },
   "file_extension": ".py",
   "mimetype": "text/x-python",
   "name": "python",
   "nbconvert_exporter": "python",
   "pygments_lexer": "ipython3",
   "version": "3.6.4"
  }
 },
 "nbformat": 4,
 "nbformat_minor": 2
}
