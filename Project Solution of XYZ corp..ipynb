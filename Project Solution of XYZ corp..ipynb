{
 "cells": [
  {
   "cell_type": "markdown",
   "metadata": {
    "deletable": true,
    "editable": true
   },
   "source": [
    "# XYZ Corp. : Default Rate Prediction and Analysis"
   ]
  },
  {
   "cell_type": "markdown",
   "metadata": {
    "deletable": true,
    "editable": true
   },
   "source": [
    "Methodology\n",
    "- Exploratory Data Analysis (EDA)\n",
    "  - Data Cleaning\n",
    "  - Variable Transformations\n",
    "  - Plots to study trends\n",
    "- Feature engineering and Variable Selection\n",
    "- Model Building and Validation\n",
    "    - Preprocessing\n",
    "    - Model Building, testing and validation\n",
    "    - Model selection\n",
    "- Final results"
   ]
  },
  {
   "cell_type": "code",
   "execution_count": 1,
   "metadata": {
    "collapsed": true,
    "deletable": true,
    "editable": true
   },
   "outputs": [],
   "source": [
    "# Loading all the required libraries\n",
    "# Numpy and Pandas for data manipulation\n",
    "import numpy as np\n",
    "import pandas as pd\n",
    "# Matplotlib for data visulaization\n",
    "import matplotlib.pyplot as plt\n",
    "from matplotlib.patches import Polygon\n",
    "# For Modeling\n",
    "import seaborn as sns\n",
    "import sklearn\n",
    "\n",
    "% matplotlib inline"
   ]
  },
  {
   "cell_type": "code",
   "execution_count": 2,
   "metadata": {
    "collapsed": true,
    "deletable": true,
    "editable": true
   },
   "outputs": [],
   "source": [
    "# Views all rows and columns\n",
    "pd.set_option(\"display.max_columns\", None)"
   ]
  },
  {
   "cell_type": "code",
   "execution_count": 3,
   "metadata": {
    "collapsed": true,
    "deletable": true,
    "editable": true
   },
   "outputs": [],
   "source": [
    "# Import Data\n",
    "credit = pd.read_table('XYZCorp_LendingData.txt', sep= '\\t', low_memory= False)"
   ]
  },
  {
   "cell_type": "markdown",
   "metadata": {
    "deletable": true,
    "editable": true
   },
   "source": [
    "# Data Exploration"
   ]
  },
  {
   "cell_type": "code",
   "execution_count": 4,
   "metadata": {
    "collapsed": false,
    "deletable": true,
    "editable": true
   },
   "outputs": [
    {
     "name": "stdout",
     "output_type": "stream",
     "text": [
      "There are 73 columns:\n",
      "id ,member_id ,loan_amnt ,funded_amnt ,funded_amnt_inv ,term ,int_rate ,installment ,grade ,sub_grade ,emp_title ,emp_length ,home_ownership ,annual_inc ,verification_status ,issue_d ,pymnt_plan ,desc ,purpose ,title ,zip_code ,addr_state ,dti ,delinq_2yrs ,earliest_cr_line ,inq_last_6mths ,mths_since_last_delinq ,mths_since_last_record ,open_acc ,pub_rec ,revol_bal ,revol_util ,total_acc ,initial_list_status ,out_prncp ,out_prncp_inv ,total_pymnt ,total_pymnt_inv ,total_rec_prncp ,total_rec_int ,total_rec_late_fee ,recoveries ,collection_recovery_fee ,last_pymnt_d ,last_pymnt_amnt ,next_pymnt_d ,last_credit_pull_d ,collections_12_mths_ex_med ,mths_since_last_major_derog ,policy_code ,application_type ,annual_inc_joint ,dti_joint ,verification_status_joint ,acc_now_delinq ,tot_coll_amt ,tot_cur_bal ,open_acc_6m ,open_il_6m ,open_il_12m ,open_il_24m ,mths_since_rcnt_il ,total_bal_il ,il_util ,open_rv_12m ,open_rv_24m ,max_bal_bc ,all_util ,total_rev_hi_lim ,inq_fi ,total_cu_tl ,inq_last_12m ,default_ind ,"
     ]
    }
   ],
   "source": [
    "# Check columns name of the data\n",
    "print('There are', len(credit.columns), 'columns:')\n",
    "for x in credit.columns:\n",
    "    print(x+ ' ', end= ',')"
   ]
  },
  {
   "cell_type": "code",
   "execution_count": 5,
   "metadata": {
    "collapsed": false,
    "deletable": true,
    "editable": true
   },
   "outputs": [
    {
     "data": {
      "text/html": [
       "<div>\n",
       "<style scoped>\n",
       "    .dataframe tbody tr th:only-of-type {\n",
       "        vertical-align: middle;\n",
       "    }\n",
       "\n",
       "    .dataframe tbody tr th {\n",
       "        vertical-align: top;\n",
       "    }\n",
       "\n",
       "    .dataframe thead th {\n",
       "        text-align: right;\n",
       "    }\n",
       "</style>\n",
       "<table border=\"1\" class=\"dataframe\">\n",
       "  <thead>\n",
       "    <tr style=\"text-align: right;\">\n",
       "      <th></th>\n",
       "      <th>id</th>\n",
       "      <th>member_id</th>\n",
       "      <th>loan_amnt</th>\n",
       "      <th>funded_amnt</th>\n",
       "      <th>funded_amnt_inv</th>\n",
       "      <th>term</th>\n",
       "      <th>int_rate</th>\n",
       "      <th>installment</th>\n",
       "      <th>grade</th>\n",
       "      <th>sub_grade</th>\n",
       "      <th>emp_title</th>\n",
       "      <th>emp_length</th>\n",
       "      <th>home_ownership</th>\n",
       "      <th>annual_inc</th>\n",
       "      <th>verification_status</th>\n",
       "      <th>issue_d</th>\n",
       "      <th>pymnt_plan</th>\n",
       "      <th>desc</th>\n",
       "      <th>purpose</th>\n",
       "      <th>title</th>\n",
       "      <th>zip_code</th>\n",
       "      <th>addr_state</th>\n",
       "      <th>dti</th>\n",
       "      <th>delinq_2yrs</th>\n",
       "      <th>earliest_cr_line</th>\n",
       "      <th>inq_last_6mths</th>\n",
       "      <th>mths_since_last_delinq</th>\n",
       "      <th>mths_since_last_record</th>\n",
       "      <th>open_acc</th>\n",
       "      <th>pub_rec</th>\n",
       "      <th>revol_bal</th>\n",
       "      <th>revol_util</th>\n",
       "      <th>total_acc</th>\n",
       "      <th>initial_list_status</th>\n",
       "      <th>out_prncp</th>\n",
       "      <th>out_prncp_inv</th>\n",
       "      <th>total_pymnt</th>\n",
       "      <th>total_pymnt_inv</th>\n",
       "      <th>total_rec_prncp</th>\n",
       "      <th>total_rec_int</th>\n",
       "      <th>total_rec_late_fee</th>\n",
       "      <th>recoveries</th>\n",
       "      <th>collection_recovery_fee</th>\n",
       "      <th>last_pymnt_d</th>\n",
       "      <th>last_pymnt_amnt</th>\n",
       "      <th>next_pymnt_d</th>\n",
       "      <th>last_credit_pull_d</th>\n",
       "      <th>collections_12_mths_ex_med</th>\n",
       "      <th>mths_since_last_major_derog</th>\n",
       "      <th>policy_code</th>\n",
       "      <th>application_type</th>\n",
       "      <th>annual_inc_joint</th>\n",
       "      <th>dti_joint</th>\n",
       "      <th>verification_status_joint</th>\n",
       "      <th>acc_now_delinq</th>\n",
       "      <th>tot_coll_amt</th>\n",
       "      <th>tot_cur_bal</th>\n",
       "      <th>open_acc_6m</th>\n",
       "      <th>open_il_6m</th>\n",
       "      <th>open_il_12m</th>\n",
       "      <th>open_il_24m</th>\n",
       "      <th>mths_since_rcnt_il</th>\n",
       "      <th>total_bal_il</th>\n",
       "      <th>il_util</th>\n",
       "      <th>open_rv_12m</th>\n",
       "      <th>open_rv_24m</th>\n",
       "      <th>max_bal_bc</th>\n",
       "      <th>all_util</th>\n",
       "      <th>total_rev_hi_lim</th>\n",
       "      <th>inq_fi</th>\n",
       "      <th>total_cu_tl</th>\n",
       "      <th>inq_last_12m</th>\n",
       "      <th>default_ind</th>\n",
       "    </tr>\n",
       "  </thead>\n",
       "  <tbody>\n",
       "    <tr>\n",
       "      <th>0</th>\n",
       "      <td>1077501</td>\n",
       "      <td>1296599</td>\n",
       "      <td>5000.0</td>\n",
       "      <td>5000.0</td>\n",
       "      <td>4975.0</td>\n",
       "      <td>36 months</td>\n",
       "      <td>10.65</td>\n",
       "      <td>162.87</td>\n",
       "      <td>B</td>\n",
       "      <td>B2</td>\n",
       "      <td>NaN</td>\n",
       "      <td>10+ years</td>\n",
       "      <td>RENT</td>\n",
       "      <td>24000.0</td>\n",
       "      <td>Verified</td>\n",
       "      <td>Dec-2011</td>\n",
       "      <td>n</td>\n",
       "      <td>Borrower added on 12/22/11 &gt; I need to upgra...</td>\n",
       "      <td>credit_card</td>\n",
       "      <td>Computer</td>\n",
       "      <td>860xx</td>\n",
       "      <td>AZ</td>\n",
       "      <td>27.65</td>\n",
       "      <td>0.0</td>\n",
       "      <td>Jan-1985</td>\n",
       "      <td>1.0</td>\n",
       "      <td>NaN</td>\n",
       "      <td>NaN</td>\n",
       "      <td>3.0</td>\n",
       "      <td>0.0</td>\n",
       "      <td>13648.0</td>\n",
       "      <td>83.7</td>\n",
       "      <td>9.0</td>\n",
       "      <td>f</td>\n",
       "      <td>0.0</td>\n",
       "      <td>0.0</td>\n",
       "      <td>5861.071414</td>\n",
       "      <td>5831.78</td>\n",
       "      <td>5000.00</td>\n",
       "      <td>861.07</td>\n",
       "      <td>0.00</td>\n",
       "      <td>0.00</td>\n",
       "      <td>0.00</td>\n",
       "      <td>Jan-2015</td>\n",
       "      <td>171.62</td>\n",
       "      <td>NaN</td>\n",
       "      <td>Jan-2016</td>\n",
       "      <td>0.0</td>\n",
       "      <td>NaN</td>\n",
       "      <td>1.0</td>\n",
       "      <td>INDIVIDUAL</td>\n",
       "      <td>NaN</td>\n",
       "      <td>NaN</td>\n",
       "      <td>NaN</td>\n",
       "      <td>0.0</td>\n",
       "      <td>NaN</td>\n",
       "      <td>NaN</td>\n",
       "      <td>NaN</td>\n",
       "      <td>NaN</td>\n",
       "      <td>NaN</td>\n",
       "      <td>NaN</td>\n",
       "      <td>NaN</td>\n",
       "      <td>NaN</td>\n",
       "      <td>NaN</td>\n",
       "      <td>NaN</td>\n",
       "      <td>NaN</td>\n",
       "      <td>NaN</td>\n",
       "      <td>NaN</td>\n",
       "      <td>NaN</td>\n",
       "      <td>NaN</td>\n",
       "      <td>NaN</td>\n",
       "      <td>NaN</td>\n",
       "      <td>0</td>\n",
       "    </tr>\n",
       "    <tr>\n",
       "      <th>1</th>\n",
       "      <td>1077430</td>\n",
       "      <td>1314167</td>\n",
       "      <td>2500.0</td>\n",
       "      <td>2500.0</td>\n",
       "      <td>2500.0</td>\n",
       "      <td>60 months</td>\n",
       "      <td>15.27</td>\n",
       "      <td>59.83</td>\n",
       "      <td>C</td>\n",
       "      <td>C4</td>\n",
       "      <td>Ryder</td>\n",
       "      <td>&lt; 1 year</td>\n",
       "      <td>RENT</td>\n",
       "      <td>30000.0</td>\n",
       "      <td>Source Verified</td>\n",
       "      <td>Dec-2011</td>\n",
       "      <td>n</td>\n",
       "      <td>Borrower added on 12/22/11 &gt; I plan to use t...</td>\n",
       "      <td>car</td>\n",
       "      <td>bike</td>\n",
       "      <td>309xx</td>\n",
       "      <td>GA</td>\n",
       "      <td>1.00</td>\n",
       "      <td>0.0</td>\n",
       "      <td>Apr-1999</td>\n",
       "      <td>5.0</td>\n",
       "      <td>NaN</td>\n",
       "      <td>NaN</td>\n",
       "      <td>3.0</td>\n",
       "      <td>0.0</td>\n",
       "      <td>1687.0</td>\n",
       "      <td>9.4</td>\n",
       "      <td>4.0</td>\n",
       "      <td>f</td>\n",
       "      <td>0.0</td>\n",
       "      <td>0.0</td>\n",
       "      <td>1008.710000</td>\n",
       "      <td>1008.71</td>\n",
       "      <td>456.46</td>\n",
       "      <td>435.17</td>\n",
       "      <td>0.00</td>\n",
       "      <td>117.08</td>\n",
       "      <td>1.11</td>\n",
       "      <td>Apr-2013</td>\n",
       "      <td>119.66</td>\n",
       "      <td>NaN</td>\n",
       "      <td>Sep-2013</td>\n",
       "      <td>0.0</td>\n",
       "      <td>NaN</td>\n",
       "      <td>1.0</td>\n",
       "      <td>INDIVIDUAL</td>\n",
       "      <td>NaN</td>\n",
       "      <td>NaN</td>\n",
       "      <td>NaN</td>\n",
       "      <td>0.0</td>\n",
       "      <td>NaN</td>\n",
       "      <td>NaN</td>\n",
       "      <td>NaN</td>\n",
       "      <td>NaN</td>\n",
       "      <td>NaN</td>\n",
       "      <td>NaN</td>\n",
       "      <td>NaN</td>\n",
       "      <td>NaN</td>\n",
       "      <td>NaN</td>\n",
       "      <td>NaN</td>\n",
       "      <td>NaN</td>\n",
       "      <td>NaN</td>\n",
       "      <td>NaN</td>\n",
       "      <td>NaN</td>\n",
       "      <td>NaN</td>\n",
       "      <td>NaN</td>\n",
       "      <td>NaN</td>\n",
       "      <td>1</td>\n",
       "    </tr>\n",
       "    <tr>\n",
       "      <th>2</th>\n",
       "      <td>1077175</td>\n",
       "      <td>1313524</td>\n",
       "      <td>2400.0</td>\n",
       "      <td>2400.0</td>\n",
       "      <td>2400.0</td>\n",
       "      <td>36 months</td>\n",
       "      <td>15.96</td>\n",
       "      <td>84.33</td>\n",
       "      <td>C</td>\n",
       "      <td>C5</td>\n",
       "      <td>NaN</td>\n",
       "      <td>10+ years</td>\n",
       "      <td>RENT</td>\n",
       "      <td>12252.0</td>\n",
       "      <td>Not Verified</td>\n",
       "      <td>Dec-2011</td>\n",
       "      <td>n</td>\n",
       "      <td>NaN</td>\n",
       "      <td>small_business</td>\n",
       "      <td>real estate business</td>\n",
       "      <td>606xx</td>\n",
       "      <td>IL</td>\n",
       "      <td>8.72</td>\n",
       "      <td>0.0</td>\n",
       "      <td>Nov-2001</td>\n",
       "      <td>2.0</td>\n",
       "      <td>NaN</td>\n",
       "      <td>NaN</td>\n",
       "      <td>2.0</td>\n",
       "      <td>0.0</td>\n",
       "      <td>2956.0</td>\n",
       "      <td>98.5</td>\n",
       "      <td>10.0</td>\n",
       "      <td>f</td>\n",
       "      <td>0.0</td>\n",
       "      <td>0.0</td>\n",
       "      <td>3003.653644</td>\n",
       "      <td>3003.65</td>\n",
       "      <td>2400.00</td>\n",
       "      <td>603.65</td>\n",
       "      <td>0.00</td>\n",
       "      <td>0.00</td>\n",
       "      <td>0.00</td>\n",
       "      <td>Jun-2014</td>\n",
       "      <td>649.91</td>\n",
       "      <td>NaN</td>\n",
       "      <td>Jan-2016</td>\n",
       "      <td>0.0</td>\n",
       "      <td>NaN</td>\n",
       "      <td>1.0</td>\n",
       "      <td>INDIVIDUAL</td>\n",
       "      <td>NaN</td>\n",
       "      <td>NaN</td>\n",
       "      <td>NaN</td>\n",
       "      <td>0.0</td>\n",
       "      <td>NaN</td>\n",
       "      <td>NaN</td>\n",
       "      <td>NaN</td>\n",
       "      <td>NaN</td>\n",
       "      <td>NaN</td>\n",
       "      <td>NaN</td>\n",
       "      <td>NaN</td>\n",
       "      <td>NaN</td>\n",
       "      <td>NaN</td>\n",
       "      <td>NaN</td>\n",
       "      <td>NaN</td>\n",
       "      <td>NaN</td>\n",
       "      <td>NaN</td>\n",
       "      <td>NaN</td>\n",
       "      <td>NaN</td>\n",
       "      <td>NaN</td>\n",
       "      <td>NaN</td>\n",
       "      <td>0</td>\n",
       "    </tr>\n",
       "    <tr>\n",
       "      <th>3</th>\n",
       "      <td>1076863</td>\n",
       "      <td>1277178</td>\n",
       "      <td>10000.0</td>\n",
       "      <td>10000.0</td>\n",
       "      <td>10000.0</td>\n",
       "      <td>36 months</td>\n",
       "      <td>13.49</td>\n",
       "      <td>339.31</td>\n",
       "      <td>C</td>\n",
       "      <td>C1</td>\n",
       "      <td>AIR RESOURCES BOARD</td>\n",
       "      <td>10+ years</td>\n",
       "      <td>RENT</td>\n",
       "      <td>49200.0</td>\n",
       "      <td>Source Verified</td>\n",
       "      <td>Dec-2011</td>\n",
       "      <td>n</td>\n",
       "      <td>Borrower added on 12/21/11 &gt; to pay for prop...</td>\n",
       "      <td>other</td>\n",
       "      <td>personel</td>\n",
       "      <td>917xx</td>\n",
       "      <td>CA</td>\n",
       "      <td>20.00</td>\n",
       "      <td>0.0</td>\n",
       "      <td>Feb-1996</td>\n",
       "      <td>1.0</td>\n",
       "      <td>35.0</td>\n",
       "      <td>NaN</td>\n",
       "      <td>10.0</td>\n",
       "      <td>0.0</td>\n",
       "      <td>5598.0</td>\n",
       "      <td>21.0</td>\n",
       "      <td>37.0</td>\n",
       "      <td>f</td>\n",
       "      <td>0.0</td>\n",
       "      <td>0.0</td>\n",
       "      <td>12226.302212</td>\n",
       "      <td>12226.30</td>\n",
       "      <td>10000.00</td>\n",
       "      <td>2209.33</td>\n",
       "      <td>16.97</td>\n",
       "      <td>0.00</td>\n",
       "      <td>0.00</td>\n",
       "      <td>Jan-2015</td>\n",
       "      <td>357.48</td>\n",
       "      <td>NaN</td>\n",
       "      <td>Jan-2015</td>\n",
       "      <td>0.0</td>\n",
       "      <td>NaN</td>\n",
       "      <td>1.0</td>\n",
       "      <td>INDIVIDUAL</td>\n",
       "      <td>NaN</td>\n",
       "      <td>NaN</td>\n",
       "      <td>NaN</td>\n",
       "      <td>0.0</td>\n",
       "      <td>NaN</td>\n",
       "      <td>NaN</td>\n",
       "      <td>NaN</td>\n",
       "      <td>NaN</td>\n",
       "      <td>NaN</td>\n",
       "      <td>NaN</td>\n",
       "      <td>NaN</td>\n",
       "      <td>NaN</td>\n",
       "      <td>NaN</td>\n",
       "      <td>NaN</td>\n",
       "      <td>NaN</td>\n",
       "      <td>NaN</td>\n",
       "      <td>NaN</td>\n",
       "      <td>NaN</td>\n",
       "      <td>NaN</td>\n",
       "      <td>NaN</td>\n",
       "      <td>NaN</td>\n",
       "      <td>0</td>\n",
       "    </tr>\n",
       "    <tr>\n",
       "      <th>4</th>\n",
       "      <td>1075358</td>\n",
       "      <td>1311748</td>\n",
       "      <td>3000.0</td>\n",
       "      <td>3000.0</td>\n",
       "      <td>3000.0</td>\n",
       "      <td>60 months</td>\n",
       "      <td>12.69</td>\n",
       "      <td>67.79</td>\n",
       "      <td>B</td>\n",
       "      <td>B5</td>\n",
       "      <td>University Medical Group</td>\n",
       "      <td>1 year</td>\n",
       "      <td>RENT</td>\n",
       "      <td>80000.0</td>\n",
       "      <td>Source Verified</td>\n",
       "      <td>Dec-2011</td>\n",
       "      <td>n</td>\n",
       "      <td>Borrower added on 12/21/11 &gt; I plan on combi...</td>\n",
       "      <td>other</td>\n",
       "      <td>Personal</td>\n",
       "      <td>972xx</td>\n",
       "      <td>OR</td>\n",
       "      <td>17.94</td>\n",
       "      <td>0.0</td>\n",
       "      <td>Jan-1996</td>\n",
       "      <td>0.0</td>\n",
       "      <td>38.0</td>\n",
       "      <td>NaN</td>\n",
       "      <td>15.0</td>\n",
       "      <td>0.0</td>\n",
       "      <td>27783.0</td>\n",
       "      <td>53.9</td>\n",
       "      <td>38.0</td>\n",
       "      <td>f</td>\n",
       "      <td>766.9</td>\n",
       "      <td>766.9</td>\n",
       "      <td>3242.170000</td>\n",
       "      <td>3242.17</td>\n",
       "      <td>2233.10</td>\n",
       "      <td>1009.07</td>\n",
       "      <td>0.00</td>\n",
       "      <td>0.00</td>\n",
       "      <td>0.00</td>\n",
       "      <td>Jan-2016</td>\n",
       "      <td>67.79</td>\n",
       "      <td>Feb-2016</td>\n",
       "      <td>Jan-2016</td>\n",
       "      <td>0.0</td>\n",
       "      <td>NaN</td>\n",
       "      <td>1.0</td>\n",
       "      <td>INDIVIDUAL</td>\n",
       "      <td>NaN</td>\n",
       "      <td>NaN</td>\n",
       "      <td>NaN</td>\n",
       "      <td>0.0</td>\n",
       "      <td>NaN</td>\n",
       "      <td>NaN</td>\n",
       "      <td>NaN</td>\n",
       "      <td>NaN</td>\n",
       "      <td>NaN</td>\n",
       "      <td>NaN</td>\n",
       "      <td>NaN</td>\n",
       "      <td>NaN</td>\n",
       "      <td>NaN</td>\n",
       "      <td>NaN</td>\n",
       "      <td>NaN</td>\n",
       "      <td>NaN</td>\n",
       "      <td>NaN</td>\n",
       "      <td>NaN</td>\n",
       "      <td>NaN</td>\n",
       "      <td>NaN</td>\n",
       "      <td>NaN</td>\n",
       "      <td>0</td>\n",
       "    </tr>\n",
       "  </tbody>\n",
       "</table>\n",
       "</div>"
      ],
      "text/plain": [
       "        id  member_id  loan_amnt  funded_amnt  funded_amnt_inv        term  \\\n",
       "0  1077501    1296599     5000.0       5000.0           4975.0   36 months   \n",
       "1  1077430    1314167     2500.0       2500.0           2500.0   60 months   \n",
       "2  1077175    1313524     2400.0       2400.0           2400.0   36 months   \n",
       "3  1076863    1277178    10000.0      10000.0          10000.0   36 months   \n",
       "4  1075358    1311748     3000.0       3000.0           3000.0   60 months   \n",
       "\n",
       "   int_rate  installment grade sub_grade                 emp_title emp_length  \\\n",
       "0     10.65       162.87     B        B2                       NaN  10+ years   \n",
       "1     15.27        59.83     C        C4                     Ryder   < 1 year   \n",
       "2     15.96        84.33     C        C5                       NaN  10+ years   \n",
       "3     13.49       339.31     C        C1       AIR RESOURCES BOARD  10+ years   \n",
       "4     12.69        67.79     B        B5  University Medical Group     1 year   \n",
       "\n",
       "  home_ownership  annual_inc verification_status   issue_d pymnt_plan  \\\n",
       "0           RENT     24000.0            Verified  Dec-2011          n   \n",
       "1           RENT     30000.0     Source Verified  Dec-2011          n   \n",
       "2           RENT     12252.0        Not Verified  Dec-2011          n   \n",
       "3           RENT     49200.0     Source Verified  Dec-2011          n   \n",
       "4           RENT     80000.0     Source Verified  Dec-2011          n   \n",
       "\n",
       "                                                desc         purpose  \\\n",
       "0    Borrower added on 12/22/11 > I need to upgra...     credit_card   \n",
       "1    Borrower added on 12/22/11 > I plan to use t...             car   \n",
       "2                                                NaN  small_business   \n",
       "3    Borrower added on 12/21/11 > to pay for prop...           other   \n",
       "4    Borrower added on 12/21/11 > I plan on combi...           other   \n",
       "\n",
       "                  title zip_code addr_state    dti  delinq_2yrs  \\\n",
       "0              Computer    860xx         AZ  27.65          0.0   \n",
       "1                  bike    309xx         GA   1.00          0.0   \n",
       "2  real estate business    606xx         IL   8.72          0.0   \n",
       "3              personel    917xx         CA  20.00          0.0   \n",
       "4              Personal    972xx         OR  17.94          0.0   \n",
       "\n",
       "  earliest_cr_line  inq_last_6mths  mths_since_last_delinq  \\\n",
       "0         Jan-1985             1.0                     NaN   \n",
       "1         Apr-1999             5.0                     NaN   \n",
       "2         Nov-2001             2.0                     NaN   \n",
       "3         Feb-1996             1.0                    35.0   \n",
       "4         Jan-1996             0.0                    38.0   \n",
       "\n",
       "   mths_since_last_record  open_acc  pub_rec  revol_bal  revol_util  \\\n",
       "0                     NaN       3.0      0.0    13648.0        83.7   \n",
       "1                     NaN       3.0      0.0     1687.0         9.4   \n",
       "2                     NaN       2.0      0.0     2956.0        98.5   \n",
       "3                     NaN      10.0      0.0     5598.0        21.0   \n",
       "4                     NaN      15.0      0.0    27783.0        53.9   \n",
       "\n",
       "   total_acc initial_list_status  out_prncp  out_prncp_inv   total_pymnt  \\\n",
       "0        9.0                   f        0.0            0.0   5861.071414   \n",
       "1        4.0                   f        0.0            0.0   1008.710000   \n",
       "2       10.0                   f        0.0            0.0   3003.653644   \n",
       "3       37.0                   f        0.0            0.0  12226.302212   \n",
       "4       38.0                   f      766.9          766.9   3242.170000   \n",
       "\n",
       "   total_pymnt_inv  total_rec_prncp  total_rec_int  total_rec_late_fee  \\\n",
       "0          5831.78          5000.00         861.07                0.00   \n",
       "1          1008.71           456.46         435.17                0.00   \n",
       "2          3003.65          2400.00         603.65                0.00   \n",
       "3         12226.30         10000.00        2209.33               16.97   \n",
       "4          3242.17          2233.10        1009.07                0.00   \n",
       "\n",
       "   recoveries  collection_recovery_fee last_pymnt_d  last_pymnt_amnt  \\\n",
       "0        0.00                     0.00     Jan-2015           171.62   \n",
       "1      117.08                     1.11     Apr-2013           119.66   \n",
       "2        0.00                     0.00     Jun-2014           649.91   \n",
       "3        0.00                     0.00     Jan-2015           357.48   \n",
       "4        0.00                     0.00     Jan-2016            67.79   \n",
       "\n",
       "  next_pymnt_d last_credit_pull_d  collections_12_mths_ex_med  \\\n",
       "0          NaN           Jan-2016                         0.0   \n",
       "1          NaN           Sep-2013                         0.0   \n",
       "2          NaN           Jan-2016                         0.0   \n",
       "3          NaN           Jan-2015                         0.0   \n",
       "4     Feb-2016           Jan-2016                         0.0   \n",
       "\n",
       "   mths_since_last_major_derog  policy_code application_type  \\\n",
       "0                          NaN          1.0       INDIVIDUAL   \n",
       "1                          NaN          1.0       INDIVIDUAL   \n",
       "2                          NaN          1.0       INDIVIDUAL   \n",
       "3                          NaN          1.0       INDIVIDUAL   \n",
       "4                          NaN          1.0       INDIVIDUAL   \n",
       "\n",
       "   annual_inc_joint  dti_joint verification_status_joint  acc_now_delinq  \\\n",
       "0               NaN        NaN                       NaN             0.0   \n",
       "1               NaN        NaN                       NaN             0.0   \n",
       "2               NaN        NaN                       NaN             0.0   \n",
       "3               NaN        NaN                       NaN             0.0   \n",
       "4               NaN        NaN                       NaN             0.0   \n",
       "\n",
       "   tot_coll_amt  tot_cur_bal  open_acc_6m  open_il_6m  open_il_12m  \\\n",
       "0           NaN          NaN          NaN         NaN          NaN   \n",
       "1           NaN          NaN          NaN         NaN          NaN   \n",
       "2           NaN          NaN          NaN         NaN          NaN   \n",
       "3           NaN          NaN          NaN         NaN          NaN   \n",
       "4           NaN          NaN          NaN         NaN          NaN   \n",
       "\n",
       "   open_il_24m  mths_since_rcnt_il  total_bal_il  il_util  open_rv_12m  \\\n",
       "0          NaN                 NaN           NaN      NaN          NaN   \n",
       "1          NaN                 NaN           NaN      NaN          NaN   \n",
       "2          NaN                 NaN           NaN      NaN          NaN   \n",
       "3          NaN                 NaN           NaN      NaN          NaN   \n",
       "4          NaN                 NaN           NaN      NaN          NaN   \n",
       "\n",
       "   open_rv_24m  max_bal_bc  all_util  total_rev_hi_lim  inq_fi  total_cu_tl  \\\n",
       "0          NaN         NaN       NaN               NaN     NaN          NaN   \n",
       "1          NaN         NaN       NaN               NaN     NaN          NaN   \n",
       "2          NaN         NaN       NaN               NaN     NaN          NaN   \n",
       "3          NaN         NaN       NaN               NaN     NaN          NaN   \n",
       "4          NaN         NaN       NaN               NaN     NaN          NaN   \n",
       "\n",
       "   inq_last_12m  default_ind  \n",
       "0           NaN            0  \n",
       "1           NaN            1  \n",
       "2           NaN            0  \n",
       "3           NaN            0  \n",
       "4           NaN            0  "
      ]
     },
     "execution_count": 5,
     "metadata": {},
     "output_type": "execute_result"
    }
   ],
   "source": [
    "# Check top 5 rows of data\n",
    "credit.head()"
   ]
  },
  {
   "cell_type": "code",
   "execution_count": 6,
   "metadata": {
    "collapsed": false,
    "deletable": true,
    "editable": true
   },
   "outputs": [
    {
     "data": {
      "text/html": [
       "<div>\n",
       "<style scoped>\n",
       "    .dataframe tbody tr th:only-of-type {\n",
       "        vertical-align: middle;\n",
       "    }\n",
       "\n",
       "    .dataframe tbody tr th {\n",
       "        vertical-align: top;\n",
       "    }\n",
       "\n",
       "    .dataframe thead th {\n",
       "        text-align: right;\n",
       "    }\n",
       "</style>\n",
       "<table border=\"1\" class=\"dataframe\">\n",
       "  <thead>\n",
       "    <tr style=\"text-align: right;\">\n",
       "      <th></th>\n",
       "      <th>id</th>\n",
       "      <th>member_id</th>\n",
       "      <th>loan_amnt</th>\n",
       "      <th>funded_amnt</th>\n",
       "      <th>funded_amnt_inv</th>\n",
       "      <th>term</th>\n",
       "      <th>int_rate</th>\n",
       "      <th>installment</th>\n",
       "      <th>grade</th>\n",
       "      <th>sub_grade</th>\n",
       "      <th>emp_title</th>\n",
       "      <th>emp_length</th>\n",
       "      <th>home_ownership</th>\n",
       "      <th>annual_inc</th>\n",
       "      <th>verification_status</th>\n",
       "      <th>issue_d</th>\n",
       "      <th>pymnt_plan</th>\n",
       "      <th>desc</th>\n",
       "      <th>purpose</th>\n",
       "      <th>title</th>\n",
       "      <th>zip_code</th>\n",
       "      <th>addr_state</th>\n",
       "      <th>dti</th>\n",
       "      <th>delinq_2yrs</th>\n",
       "      <th>earliest_cr_line</th>\n",
       "      <th>inq_last_6mths</th>\n",
       "      <th>mths_since_last_delinq</th>\n",
       "      <th>mths_since_last_record</th>\n",
       "      <th>open_acc</th>\n",
       "      <th>pub_rec</th>\n",
       "      <th>revol_bal</th>\n",
       "      <th>revol_util</th>\n",
       "      <th>total_acc</th>\n",
       "      <th>initial_list_status</th>\n",
       "      <th>out_prncp</th>\n",
       "      <th>out_prncp_inv</th>\n",
       "      <th>total_pymnt</th>\n",
       "      <th>total_pymnt_inv</th>\n",
       "      <th>total_rec_prncp</th>\n",
       "      <th>total_rec_int</th>\n",
       "      <th>total_rec_late_fee</th>\n",
       "      <th>recoveries</th>\n",
       "      <th>collection_recovery_fee</th>\n",
       "      <th>last_pymnt_d</th>\n",
       "      <th>last_pymnt_amnt</th>\n",
       "      <th>next_pymnt_d</th>\n",
       "      <th>last_credit_pull_d</th>\n",
       "      <th>collections_12_mths_ex_med</th>\n",
       "      <th>mths_since_last_major_derog</th>\n",
       "      <th>policy_code</th>\n",
       "      <th>application_type</th>\n",
       "      <th>annual_inc_joint</th>\n",
       "      <th>dti_joint</th>\n",
       "      <th>verification_status_joint</th>\n",
       "      <th>acc_now_delinq</th>\n",
       "      <th>tot_coll_amt</th>\n",
       "      <th>tot_cur_bal</th>\n",
       "      <th>open_acc_6m</th>\n",
       "      <th>open_il_6m</th>\n",
       "      <th>open_il_12m</th>\n",
       "      <th>open_il_24m</th>\n",
       "      <th>mths_since_rcnt_il</th>\n",
       "      <th>total_bal_il</th>\n",
       "      <th>il_util</th>\n",
       "      <th>open_rv_12m</th>\n",
       "      <th>open_rv_24m</th>\n",
       "      <th>max_bal_bc</th>\n",
       "      <th>all_util</th>\n",
       "      <th>total_rev_hi_lim</th>\n",
       "      <th>inq_fi</th>\n",
       "      <th>total_cu_tl</th>\n",
       "      <th>inq_last_12m</th>\n",
       "      <th>default_ind</th>\n",
       "    </tr>\n",
       "  </thead>\n",
       "  <tbody>\n",
       "    <tr>\n",
       "      <th>855964</th>\n",
       "      <td>36371250</td>\n",
       "      <td>39102635</td>\n",
       "      <td>10000.0</td>\n",
       "      <td>10000.0</td>\n",
       "      <td>10000.0</td>\n",
       "      <td>36 months</td>\n",
       "      <td>11.99</td>\n",
       "      <td>332.10</td>\n",
       "      <td>B</td>\n",
       "      <td>B5</td>\n",
       "      <td>Office Assistant</td>\n",
       "      <td>8 years</td>\n",
       "      <td>RENT</td>\n",
       "      <td>31000.0</td>\n",
       "      <td>Verified</td>\n",
       "      <td>Jan-2015</td>\n",
       "      <td>n</td>\n",
       "      <td>NaN</td>\n",
       "      <td>debt_consolidation</td>\n",
       "      <td>Debt consolidation</td>\n",
       "      <td>905xx</td>\n",
       "      <td>CA</td>\n",
       "      <td>28.69</td>\n",
       "      <td>0.0</td>\n",
       "      <td>Sep-2004</td>\n",
       "      <td>0.0</td>\n",
       "      <td>NaN</td>\n",
       "      <td>77.0</td>\n",
       "      <td>9.0</td>\n",
       "      <td>1.0</td>\n",
       "      <td>14037.0</td>\n",
       "      <td>82.1</td>\n",
       "      <td>15.0</td>\n",
       "      <td>f</td>\n",
       "      <td>7055.47</td>\n",
       "      <td>7055.47</td>\n",
       "      <td>3971.88</td>\n",
       "      <td>3971.88</td>\n",
       "      <td>2944.53</td>\n",
       "      <td>1027.35</td>\n",
       "      <td>0.0</td>\n",
       "      <td>0.0</td>\n",
       "      <td>0.0</td>\n",
       "      <td>Jan-2016</td>\n",
       "      <td>332.10</td>\n",
       "      <td>Feb-2016</td>\n",
       "      <td>Jan-2016</td>\n",
       "      <td>0.0</td>\n",
       "      <td>NaN</td>\n",
       "      <td>1.0</td>\n",
       "      <td>INDIVIDUAL</td>\n",
       "      <td>NaN</td>\n",
       "      <td>NaN</td>\n",
       "      <td>NaN</td>\n",
       "      <td>0.0</td>\n",
       "      <td>0.0</td>\n",
       "      <td>25274.0</td>\n",
       "      <td>NaN</td>\n",
       "      <td>NaN</td>\n",
       "      <td>NaN</td>\n",
       "      <td>NaN</td>\n",
       "      <td>NaN</td>\n",
       "      <td>NaN</td>\n",
       "      <td>NaN</td>\n",
       "      <td>NaN</td>\n",
       "      <td>NaN</td>\n",
       "      <td>NaN</td>\n",
       "      <td>NaN</td>\n",
       "      <td>17100.0</td>\n",
       "      <td>NaN</td>\n",
       "      <td>NaN</td>\n",
       "      <td>NaN</td>\n",
       "      <td>0</td>\n",
       "    </tr>\n",
       "    <tr>\n",
       "      <th>855965</th>\n",
       "      <td>36441262</td>\n",
       "      <td>39152692</td>\n",
       "      <td>24000.0</td>\n",
       "      <td>24000.0</td>\n",
       "      <td>24000.0</td>\n",
       "      <td>36 months</td>\n",
       "      <td>11.99</td>\n",
       "      <td>797.03</td>\n",
       "      <td>B</td>\n",
       "      <td>B5</td>\n",
       "      <td>Director of Maintenance</td>\n",
       "      <td>10+ years</td>\n",
       "      <td>MORTGAGE</td>\n",
       "      <td>79000.0</td>\n",
       "      <td>Verified</td>\n",
       "      <td>Jan-2015</td>\n",
       "      <td>n</td>\n",
       "      <td>NaN</td>\n",
       "      <td>home_improvement</td>\n",
       "      <td>Home improvement</td>\n",
       "      <td>072xx</td>\n",
       "      <td>NJ</td>\n",
       "      <td>3.90</td>\n",
       "      <td>0.0</td>\n",
       "      <td>Mar-1974</td>\n",
       "      <td>1.0</td>\n",
       "      <td>26.0</td>\n",
       "      <td>NaN</td>\n",
       "      <td>5.0</td>\n",
       "      <td>0.0</td>\n",
       "      <td>8621.0</td>\n",
       "      <td>84.5</td>\n",
       "      <td>23.0</td>\n",
       "      <td>f</td>\n",
       "      <td>16933.26</td>\n",
       "      <td>16933.26</td>\n",
       "      <td>9532.39</td>\n",
       "      <td>9532.39</td>\n",
       "      <td>7066.74</td>\n",
       "      <td>2465.65</td>\n",
       "      <td>0.0</td>\n",
       "      <td>0.0</td>\n",
       "      <td>0.0</td>\n",
       "      <td>Jan-2016</td>\n",
       "      <td>797.03</td>\n",
       "      <td>Feb-2016</td>\n",
       "      <td>Jan-2016</td>\n",
       "      <td>0.0</td>\n",
       "      <td>29.0</td>\n",
       "      <td>1.0</td>\n",
       "      <td>INDIVIDUAL</td>\n",
       "      <td>NaN</td>\n",
       "      <td>NaN</td>\n",
       "      <td>NaN</td>\n",
       "      <td>0.0</td>\n",
       "      <td>0.0</td>\n",
       "      <td>140285.0</td>\n",
       "      <td>NaN</td>\n",
       "      <td>NaN</td>\n",
       "      <td>NaN</td>\n",
       "      <td>NaN</td>\n",
       "      <td>NaN</td>\n",
       "      <td>NaN</td>\n",
       "      <td>NaN</td>\n",
       "      <td>NaN</td>\n",
       "      <td>NaN</td>\n",
       "      <td>NaN</td>\n",
       "      <td>NaN</td>\n",
       "      <td>10200.0</td>\n",
       "      <td>NaN</td>\n",
       "      <td>NaN</td>\n",
       "      <td>NaN</td>\n",
       "      <td>0</td>\n",
       "    </tr>\n",
       "    <tr>\n",
       "      <th>855966</th>\n",
       "      <td>36271333</td>\n",
       "      <td>38982739</td>\n",
       "      <td>13000.0</td>\n",
       "      <td>13000.0</td>\n",
       "      <td>13000.0</td>\n",
       "      <td>60 months</td>\n",
       "      <td>15.99</td>\n",
       "      <td>316.07</td>\n",
       "      <td>D</td>\n",
       "      <td>D2</td>\n",
       "      <td>Radiologist Technologist</td>\n",
       "      <td>5 years</td>\n",
       "      <td>RENT</td>\n",
       "      <td>35000.0</td>\n",
       "      <td>Verified</td>\n",
       "      <td>Jan-2015</td>\n",
       "      <td>n</td>\n",
       "      <td>NaN</td>\n",
       "      <td>debt_consolidation</td>\n",
       "      <td>Debt consolidation</td>\n",
       "      <td>378xx</td>\n",
       "      <td>TN</td>\n",
       "      <td>30.90</td>\n",
       "      <td>0.0</td>\n",
       "      <td>Sep-2003</td>\n",
       "      <td>0.0</td>\n",
       "      <td>NaN</td>\n",
       "      <td>84.0</td>\n",
       "      <td>9.0</td>\n",
       "      <td>1.0</td>\n",
       "      <td>11031.0</td>\n",
       "      <td>61.3</td>\n",
       "      <td>22.0</td>\n",
       "      <td>w</td>\n",
       "      <td>11155.50</td>\n",
       "      <td>11155.50</td>\n",
       "      <td>3769.74</td>\n",
       "      <td>3769.74</td>\n",
       "      <td>1844.50</td>\n",
       "      <td>1925.24</td>\n",
       "      <td>0.0</td>\n",
       "      <td>0.0</td>\n",
       "      <td>0.0</td>\n",
       "      <td>Jan-2016</td>\n",
       "      <td>316.07</td>\n",
       "      <td>Feb-2016</td>\n",
       "      <td>Jan-2016</td>\n",
       "      <td>0.0</td>\n",
       "      <td>NaN</td>\n",
       "      <td>1.0</td>\n",
       "      <td>INDIVIDUAL</td>\n",
       "      <td>NaN</td>\n",
       "      <td>NaN</td>\n",
       "      <td>NaN</td>\n",
       "      <td>0.0</td>\n",
       "      <td>0.0</td>\n",
       "      <td>34178.0</td>\n",
       "      <td>NaN</td>\n",
       "      <td>NaN</td>\n",
       "      <td>NaN</td>\n",
       "      <td>NaN</td>\n",
       "      <td>NaN</td>\n",
       "      <td>NaN</td>\n",
       "      <td>NaN</td>\n",
       "      <td>NaN</td>\n",
       "      <td>NaN</td>\n",
       "      <td>NaN</td>\n",
       "      <td>NaN</td>\n",
       "      <td>18000.0</td>\n",
       "      <td>NaN</td>\n",
       "      <td>NaN</td>\n",
       "      <td>NaN</td>\n",
       "      <td>0</td>\n",
       "    </tr>\n",
       "    <tr>\n",
       "      <th>855967</th>\n",
       "      <td>36490806</td>\n",
       "      <td>39222577</td>\n",
       "      <td>12000.0</td>\n",
       "      <td>12000.0</td>\n",
       "      <td>12000.0</td>\n",
       "      <td>60 months</td>\n",
       "      <td>19.99</td>\n",
       "      <td>317.86</td>\n",
       "      <td>E</td>\n",
       "      <td>E3</td>\n",
       "      <td>Painter</td>\n",
       "      <td>1 year</td>\n",
       "      <td>RENT</td>\n",
       "      <td>64400.0</td>\n",
       "      <td>Source Verified</td>\n",
       "      <td>Jan-2015</td>\n",
       "      <td>n</td>\n",
       "      <td>NaN</td>\n",
       "      <td>debt_consolidation</td>\n",
       "      <td>Debt consolidation</td>\n",
       "      <td>010xx</td>\n",
       "      <td>MA</td>\n",
       "      <td>27.19</td>\n",
       "      <td>1.0</td>\n",
       "      <td>Oct-2003</td>\n",
       "      <td>2.0</td>\n",
       "      <td>22.0</td>\n",
       "      <td>NaN</td>\n",
       "      <td>17.0</td>\n",
       "      <td>0.0</td>\n",
       "      <td>8254.0</td>\n",
       "      <td>30.6</td>\n",
       "      <td>20.0</td>\n",
       "      <td>w</td>\n",
       "      <td>10447.31</td>\n",
       "      <td>10447.31</td>\n",
       "      <td>3787.67</td>\n",
       "      <td>3787.67</td>\n",
       "      <td>1552.69</td>\n",
       "      <td>2234.98</td>\n",
       "      <td>0.0</td>\n",
       "      <td>0.0</td>\n",
       "      <td>0.0</td>\n",
       "      <td>Jan-2016</td>\n",
       "      <td>317.86</td>\n",
       "      <td>Feb-2016</td>\n",
       "      <td>Jan-2016</td>\n",
       "      <td>1.0</td>\n",
       "      <td>22.0</td>\n",
       "      <td>1.0</td>\n",
       "      <td>INDIVIDUAL</td>\n",
       "      <td>NaN</td>\n",
       "      <td>NaN</td>\n",
       "      <td>NaN</td>\n",
       "      <td>0.0</td>\n",
       "      <td>0.0</td>\n",
       "      <td>58418.0</td>\n",
       "      <td>NaN</td>\n",
       "      <td>NaN</td>\n",
       "      <td>NaN</td>\n",
       "      <td>NaN</td>\n",
       "      <td>NaN</td>\n",
       "      <td>NaN</td>\n",
       "      <td>NaN</td>\n",
       "      <td>NaN</td>\n",
       "      <td>NaN</td>\n",
       "      <td>NaN</td>\n",
       "      <td>NaN</td>\n",
       "      <td>27000.0</td>\n",
       "      <td>NaN</td>\n",
       "      <td>NaN</td>\n",
       "      <td>NaN</td>\n",
       "      <td>0</td>\n",
       "    </tr>\n",
       "    <tr>\n",
       "      <th>855968</th>\n",
       "      <td>36271262</td>\n",
       "      <td>38982659</td>\n",
       "      <td>20000.0</td>\n",
       "      <td>20000.0</td>\n",
       "      <td>20000.0</td>\n",
       "      <td>36 months</td>\n",
       "      <td>11.99</td>\n",
       "      <td>664.20</td>\n",
       "      <td>B</td>\n",
       "      <td>B5</td>\n",
       "      <td>Manager Hotel Operations Oasis</td>\n",
       "      <td>10+ years</td>\n",
       "      <td>RENT</td>\n",
       "      <td>100000.0</td>\n",
       "      <td>Verified</td>\n",
       "      <td>Jan-2015</td>\n",
       "      <td>n</td>\n",
       "      <td>NaN</td>\n",
       "      <td>credit_card</td>\n",
       "      <td>Credit card refinancing</td>\n",
       "      <td>331xx</td>\n",
       "      <td>FL</td>\n",
       "      <td>10.83</td>\n",
       "      <td>0.0</td>\n",
       "      <td>Dec-2001</td>\n",
       "      <td>1.0</td>\n",
       "      <td>NaN</td>\n",
       "      <td>110.0</td>\n",
       "      <td>8.0</td>\n",
       "      <td>1.0</td>\n",
       "      <td>33266.0</td>\n",
       "      <td>79.8</td>\n",
       "      <td>10.0</td>\n",
       "      <td>f</td>\n",
       "      <td>14110.94</td>\n",
       "      <td>14110.94</td>\n",
       "      <td>7943.76</td>\n",
       "      <td>7943.76</td>\n",
       "      <td>5889.06</td>\n",
       "      <td>2054.70</td>\n",
       "      <td>0.0</td>\n",
       "      <td>0.0</td>\n",
       "      <td>0.0</td>\n",
       "      <td>Jan-2016</td>\n",
       "      <td>664.20</td>\n",
       "      <td>Feb-2016</td>\n",
       "      <td>Jan-2016</td>\n",
       "      <td>0.0</td>\n",
       "      <td>NaN</td>\n",
       "      <td>1.0</td>\n",
       "      <td>INDIVIDUAL</td>\n",
       "      <td>NaN</td>\n",
       "      <td>NaN</td>\n",
       "      <td>NaN</td>\n",
       "      <td>0.0</td>\n",
       "      <td>0.0</td>\n",
       "      <td>33307.0</td>\n",
       "      <td>NaN</td>\n",
       "      <td>NaN</td>\n",
       "      <td>NaN</td>\n",
       "      <td>NaN</td>\n",
       "      <td>NaN</td>\n",
       "      <td>NaN</td>\n",
       "      <td>NaN</td>\n",
       "      <td>NaN</td>\n",
       "      <td>NaN</td>\n",
       "      <td>NaN</td>\n",
       "      <td>NaN</td>\n",
       "      <td>41700.0</td>\n",
       "      <td>NaN</td>\n",
       "      <td>NaN</td>\n",
       "      <td>NaN</td>\n",
       "      <td>0</td>\n",
       "    </tr>\n",
       "  </tbody>\n",
       "</table>\n",
       "</div>"
      ],
      "text/plain": [
       "              id  member_id  loan_amnt  funded_amnt  funded_amnt_inv  \\\n",
       "855964  36371250   39102635    10000.0      10000.0          10000.0   \n",
       "855965  36441262   39152692    24000.0      24000.0          24000.0   \n",
       "855966  36271333   38982739    13000.0      13000.0          13000.0   \n",
       "855967  36490806   39222577    12000.0      12000.0          12000.0   \n",
       "855968  36271262   38982659    20000.0      20000.0          20000.0   \n",
       "\n",
       "              term  int_rate  installment grade sub_grade  \\\n",
       "855964   36 months     11.99       332.10     B        B5   \n",
       "855965   36 months     11.99       797.03     B        B5   \n",
       "855966   60 months     15.99       316.07     D        D2   \n",
       "855967   60 months     19.99       317.86     E        E3   \n",
       "855968   36 months     11.99       664.20     B        B5   \n",
       "\n",
       "                              emp_title emp_length home_ownership  annual_inc  \\\n",
       "855964                 Office Assistant    8 years           RENT     31000.0   \n",
       "855965          Director of Maintenance  10+ years       MORTGAGE     79000.0   \n",
       "855966         Radiologist Technologist    5 years           RENT     35000.0   \n",
       "855967                          Painter     1 year           RENT     64400.0   \n",
       "855968  Manager Hotel Operations Oasis   10+ years           RENT    100000.0   \n",
       "\n",
       "       verification_status   issue_d pymnt_plan desc             purpose  \\\n",
       "855964            Verified  Jan-2015          n  NaN  debt_consolidation   \n",
       "855965            Verified  Jan-2015          n  NaN    home_improvement   \n",
       "855966            Verified  Jan-2015          n  NaN  debt_consolidation   \n",
       "855967     Source Verified  Jan-2015          n  NaN  debt_consolidation   \n",
       "855968            Verified  Jan-2015          n  NaN         credit_card   \n",
       "\n",
       "                          title zip_code addr_state    dti  delinq_2yrs  \\\n",
       "855964       Debt consolidation    905xx         CA  28.69          0.0   \n",
       "855965         Home improvement    072xx         NJ   3.90          0.0   \n",
       "855966       Debt consolidation    378xx         TN  30.90          0.0   \n",
       "855967       Debt consolidation    010xx         MA  27.19          1.0   \n",
       "855968  Credit card refinancing    331xx         FL  10.83          0.0   \n",
       "\n",
       "       earliest_cr_line  inq_last_6mths  mths_since_last_delinq  \\\n",
       "855964         Sep-2004             0.0                     NaN   \n",
       "855965         Mar-1974             1.0                    26.0   \n",
       "855966         Sep-2003             0.0                     NaN   \n",
       "855967         Oct-2003             2.0                    22.0   \n",
       "855968         Dec-2001             1.0                     NaN   \n",
       "\n",
       "        mths_since_last_record  open_acc  pub_rec  revol_bal  revol_util  \\\n",
       "855964                    77.0       9.0      1.0    14037.0        82.1   \n",
       "855965                     NaN       5.0      0.0     8621.0        84.5   \n",
       "855966                    84.0       9.0      1.0    11031.0        61.3   \n",
       "855967                     NaN      17.0      0.0     8254.0        30.6   \n",
       "855968                   110.0       8.0      1.0    33266.0        79.8   \n",
       "\n",
       "        total_acc initial_list_status  out_prncp  out_prncp_inv  total_pymnt  \\\n",
       "855964       15.0                   f    7055.47        7055.47      3971.88   \n",
       "855965       23.0                   f   16933.26       16933.26      9532.39   \n",
       "855966       22.0                   w   11155.50       11155.50      3769.74   \n",
       "855967       20.0                   w   10447.31       10447.31      3787.67   \n",
       "855968       10.0                   f   14110.94       14110.94      7943.76   \n",
       "\n",
       "        total_pymnt_inv  total_rec_prncp  total_rec_int  total_rec_late_fee  \\\n",
       "855964          3971.88          2944.53        1027.35                 0.0   \n",
       "855965          9532.39          7066.74        2465.65                 0.0   \n",
       "855966          3769.74          1844.50        1925.24                 0.0   \n",
       "855967          3787.67          1552.69        2234.98                 0.0   \n",
       "855968          7943.76          5889.06        2054.70                 0.0   \n",
       "\n",
       "        recoveries  collection_recovery_fee last_pymnt_d  last_pymnt_amnt  \\\n",
       "855964         0.0                      0.0     Jan-2016           332.10   \n",
       "855965         0.0                      0.0     Jan-2016           797.03   \n",
       "855966         0.0                      0.0     Jan-2016           316.07   \n",
       "855967         0.0                      0.0     Jan-2016           317.86   \n",
       "855968         0.0                      0.0     Jan-2016           664.20   \n",
       "\n",
       "       next_pymnt_d last_credit_pull_d  collections_12_mths_ex_med  \\\n",
       "855964     Feb-2016           Jan-2016                         0.0   \n",
       "855965     Feb-2016           Jan-2016                         0.0   \n",
       "855966     Feb-2016           Jan-2016                         0.0   \n",
       "855967     Feb-2016           Jan-2016                         1.0   \n",
       "855968     Feb-2016           Jan-2016                         0.0   \n",
       "\n",
       "        mths_since_last_major_derog  policy_code application_type  \\\n",
       "855964                          NaN          1.0       INDIVIDUAL   \n",
       "855965                         29.0          1.0       INDIVIDUAL   \n",
       "855966                          NaN          1.0       INDIVIDUAL   \n",
       "855967                         22.0          1.0       INDIVIDUAL   \n",
       "855968                          NaN          1.0       INDIVIDUAL   \n",
       "\n",
       "        annual_inc_joint  dti_joint verification_status_joint  acc_now_delinq  \\\n",
       "855964               NaN        NaN                       NaN             0.0   \n",
       "855965               NaN        NaN                       NaN             0.0   \n",
       "855966               NaN        NaN                       NaN             0.0   \n",
       "855967               NaN        NaN                       NaN             0.0   \n",
       "855968               NaN        NaN                       NaN             0.0   \n",
       "\n",
       "        tot_coll_amt  tot_cur_bal  open_acc_6m  open_il_6m  open_il_12m  \\\n",
       "855964           0.0      25274.0          NaN         NaN          NaN   \n",
       "855965           0.0     140285.0          NaN         NaN          NaN   \n",
       "855966           0.0      34178.0          NaN         NaN          NaN   \n",
       "855967           0.0      58418.0          NaN         NaN          NaN   \n",
       "855968           0.0      33307.0          NaN         NaN          NaN   \n",
       "\n",
       "        open_il_24m  mths_since_rcnt_il  total_bal_il  il_util  open_rv_12m  \\\n",
       "855964          NaN                 NaN           NaN      NaN          NaN   \n",
       "855965          NaN                 NaN           NaN      NaN          NaN   \n",
       "855966          NaN                 NaN           NaN      NaN          NaN   \n",
       "855967          NaN                 NaN           NaN      NaN          NaN   \n",
       "855968          NaN                 NaN           NaN      NaN          NaN   \n",
       "\n",
       "        open_rv_24m  max_bal_bc  all_util  total_rev_hi_lim  inq_fi  \\\n",
       "855964          NaN         NaN       NaN           17100.0     NaN   \n",
       "855965          NaN         NaN       NaN           10200.0     NaN   \n",
       "855966          NaN         NaN       NaN           18000.0     NaN   \n",
       "855967          NaN         NaN       NaN           27000.0     NaN   \n",
       "855968          NaN         NaN       NaN           41700.0     NaN   \n",
       "\n",
       "        total_cu_tl  inq_last_12m  default_ind  \n",
       "855964          NaN           NaN            0  \n",
       "855965          NaN           NaN            0  \n",
       "855966          NaN           NaN            0  \n",
       "855967          NaN           NaN            0  \n",
       "855968          NaN           NaN            0  "
      ]
     },
     "execution_count": 6,
     "metadata": {},
     "output_type": "execute_result"
    }
   ],
   "source": [
    "# Check bottom 5 rows of data\n",
    "credit.tail()"
   ]
  },
  {
   "cell_type": "code",
   "execution_count": 7,
   "metadata": {
    "collapsed": false,
    "deletable": true,
    "editable": true
   },
   "outputs": [
    {
     "name": "stdout",
     "output_type": "stream",
     "text": [
      "Number of columns (features) in the given data is : 73\n",
      "Number of rows (entries) in the given data is : 855969\n"
     ]
    }
   ],
   "source": [
    "# Number of Rows and Columns in data\n",
    "print(\"Number of columns (features) in the given data is :\", credit.shape[1])\n",
    "print(\"Number of rows (entries) in the given data is :\" , credit.shape[0])"
   ]
  },
  {
   "cell_type": "code",
   "execution_count": 8,
   "metadata": {
    "collapsed": false,
    "deletable": true,
    "editable": true,
    "scrolled": true
   },
   "outputs": [
    {
     "name": "stdout",
     "output_type": "stream",
     "text": [
      "<class 'pandas.core.frame.DataFrame'>\n",
      "RangeIndex: 855969 entries, 0 to 855968\n",
      "Data columns (total 73 columns):\n",
      "id                             855969 non-null int64\n",
      "member_id                      855969 non-null int64\n",
      "loan_amnt                      855969 non-null float64\n",
      "funded_amnt                    855969 non-null float64\n",
      "funded_amnt_inv                855969 non-null float64\n",
      "term                           855969 non-null object\n",
      "int_rate                       855969 non-null float64\n",
      "installment                    855969 non-null float64\n",
      "grade                          855969 non-null object\n",
      "sub_grade                      855969 non-null object\n",
      "emp_title                      806526 non-null object\n",
      "emp_length                     812908 non-null object\n",
      "home_ownership                 855969 non-null object\n",
      "annual_inc                     855969 non-null float64\n",
      "verification_status            855969 non-null object\n",
      "issue_d                        855969 non-null object\n",
      "pymnt_plan                     855969 non-null object\n",
      "desc                           121812 non-null object\n",
      "purpose                        855969 non-null object\n",
      "title                          855936 non-null object\n",
      "zip_code                       855969 non-null object\n",
      "addr_state                     855969 non-null object\n",
      "dti                            855969 non-null float64\n",
      "delinq_2yrs                    855969 non-null float64\n",
      "earliest_cr_line               855969 non-null object\n",
      "inq_last_6mths                 855969 non-null float64\n",
      "mths_since_last_delinq         416157 non-null float64\n",
      "mths_since_last_record         131184 non-null float64\n",
      "open_acc                       855969 non-null float64\n",
      "pub_rec                        855969 non-null float64\n",
      "revol_bal                      855969 non-null float64\n",
      "revol_util                     855523 non-null float64\n",
      "total_acc                      855969 non-null float64\n",
      "initial_list_status            855969 non-null object\n",
      "out_prncp                      855969 non-null float64\n",
      "out_prncp_inv                  855969 non-null float64\n",
      "total_pymnt                    855969 non-null float64\n",
      "total_pymnt_inv                855969 non-null float64\n",
      "total_rec_prncp                855969 non-null float64\n",
      "total_rec_int                  855969 non-null float64\n",
      "total_rec_late_fee             855969 non-null float64\n",
      "recoveries                     855969 non-null float64\n",
      "collection_recovery_fee        855969 non-null float64\n",
      "last_pymnt_d                   847107 non-null object\n",
      "last_pymnt_amnt                855969 non-null float64\n",
      "next_pymnt_d                   602998 non-null object\n",
      "last_credit_pull_d             855919 non-null object\n",
      "collections_12_mths_ex_med     855913 non-null float64\n",
      "mths_since_last_major_derog    213139 non-null float64\n",
      "policy_code                    855969 non-null float64\n",
      "application_type               855969 non-null object\n",
      "annual_inc_joint               442 non-null float64\n",
      "dti_joint                      440 non-null float64\n",
      "verification_status_joint      442 non-null object\n",
      "acc_now_delinq                 855969 non-null float64\n",
      "tot_coll_amt                   788656 non-null float64\n",
      "tot_cur_bal                    788656 non-null float64\n",
      "open_acc_6m                    13288 non-null float64\n",
      "open_il_6m                     13288 non-null float64\n",
      "open_il_12m                    13288 non-null float64\n",
      "open_il_24m                    13288 non-null float64\n",
      "mths_since_rcnt_il             12934 non-null float64\n",
      "total_bal_il                   13288 non-null float64\n",
      "il_util                        11609 non-null float64\n",
      "open_rv_12m                    13288 non-null float64\n",
      "open_rv_24m                    13288 non-null float64\n",
      "max_bal_bc                     13288 non-null float64\n",
      "all_util                       13288 non-null float64\n",
      "total_rev_hi_lim               788656 non-null float64\n",
      "inq_fi                         13288 non-null float64\n",
      "total_cu_tl                    13288 non-null float64\n",
      "inq_last_12m                   13288 non-null float64\n",
      "default_ind                    855969 non-null int64\n",
      "dtypes: float64(49), int64(3), object(21)\n",
      "memory usage: 476.7+ MB\n"
     ]
    }
   ],
   "source": [
    "# check data type of all columns\n",
    "credit.info()"
   ]
  },
  {
   "cell_type": "code",
   "execution_count": 9,
   "metadata": {
    "collapsed": true,
    "deletable": true,
    "editable": true
   },
   "outputs": [],
   "source": [
    "# Check Missing values\n",
    "credit_null=credit.isnull().sum(axis=0).sort_values(ascending= False)/float(len(credit))"
   ]
  },
  {
   "cell_type": "code",
   "execution_count": 10,
   "metadata": {
    "collapsed": false,
    "deletable": true,
    "editable": true
   },
   "outputs": [
    {
     "data": {
      "text/plain": [
       "dti_joint                      0.999486\n",
       "verification_status_joint      0.999484\n",
       "annual_inc_joint               0.999484\n",
       "il_util                        0.986438\n",
       "mths_since_rcnt_il             0.984890\n",
       "total_bal_il                   0.984476\n",
       "inq_last_12m                   0.984476\n",
       "open_acc_6m                    0.984476\n",
       "open_il_6m                     0.984476\n",
       "open_il_24m                    0.984476\n",
       "open_il_12m                    0.984476\n",
       "open_rv_12m                    0.984476\n",
       "open_rv_24m                    0.984476\n",
       "max_bal_bc                     0.984476\n",
       "all_util                       0.984476\n",
       "inq_fi                         0.984476\n",
       "total_cu_tl                    0.984476\n",
       "desc                           0.857691\n",
       "mths_since_last_record         0.846742\n",
       "mths_since_last_major_derog    0.750997\n",
       "dtype: float64"
      ]
     },
     "execution_count": 10,
     "metadata": {},
     "output_type": "execute_result"
    }
   ],
   "source": [
    "# Check whose missing values greater 74 %\n",
    "credit_null[credit_null>0.74]"
   ]
  },
  {
   "cell_type": "code",
   "execution_count": 11,
   "metadata": {
    "collapsed": true,
    "deletable": true,
    "editable": true
   },
   "outputs": [],
   "source": [
    "# Drop null values from data\n",
    "credit.drop(credit_null[credit_null>0.74].index, axis=1, inplace= True)"
   ]
  },
  {
   "cell_type": "code",
   "execution_count": 12,
   "metadata": {
    "collapsed": false,
    "deletable": true,
    "editable": true
   },
   "outputs": [
    {
     "name": "stdout",
     "output_type": "stream",
     "text": [
      "Number of remaining columns (features) in the given data is : 53\n",
      "Number of rows (entries) in the given data is : 855969\n"
     ]
    }
   ],
   "source": [
    "# Check rows and columns after drop null values\n",
    "print(\"Number of remaining columns (features) in the given data is :\", credit.shape[1])\n",
    "print(\"Number of rows (entries) in the given data is :\" , credit.shape[0])"
   ]
  },
  {
   "cell_type": "code",
   "execution_count": 13,
   "metadata": {
    "collapsed": false,
    "deletable": true,
    "editable": true
   },
   "outputs": [
    {
     "data": {
      "text/plain": [
       "INDIVIDUAL    99.948363\n",
       "JOINT          0.051637\n",
       "Name: application_type, dtype: float64"
      ]
     },
     "execution_count": 13,
     "metadata": {},
     "output_type": "execute_result"
    }
   ],
   "source": [
    "# Check types of application and their percent\n",
    "credit[\"application_type\"].value_counts()/len(credit)*100"
   ]
  },
  {
   "cell_type": "code",
   "execution_count": 14,
   "metadata": {
    "collapsed": false,
    "deletable": true,
    "editable": true
   },
   "outputs": [
    {
     "data": {
      "text/plain": [
       "0.0     99.540871\n",
       "1.0      0.431441\n",
       "2.0      0.023132\n",
       "3.0      0.003271\n",
       "4.0      0.000701\n",
       "5.0      0.000350\n",
       "6.0      0.000117\n",
       "14.0     0.000117\n",
       "Name: acc_now_delinq, dtype: float64"
      ]
     },
     "execution_count": 14,
     "metadata": {},
     "output_type": "execute_result"
    }
   ],
   "source": [
    "# Check types of acc_now_delinq and their percent\n",
    "credit['acc_now_delinq'].value_counts()/len(credit)*100"
   ]
  },
  {
   "cell_type": "code",
   "execution_count": 15,
   "metadata": {
    "collapsed": false,
    "deletable": true,
    "editable": true
   },
   "outputs": [
    {
     "data": {
      "text/plain": [
       "n    0.999994\n",
       "y    0.000006\n",
       "Name: pymnt_plan, dtype: float64"
      ]
     },
     "execution_count": 15,
     "metadata": {},
     "output_type": "execute_result"
    }
   ],
   "source": [
    "# Check types of pymnt_plan and their percent\n",
    "credit['pymnt_plan'].value_counts()/len(credit)"
   ]
  },
  {
   "cell_type": "markdown",
   "metadata": {
    "deletable": true,
    "editable": true
   },
   "source": [
    "# Exploratry Data Analysis"
   ]
  },
  {
   "cell_type": "markdown",
   "metadata": {
    "deletable": true,
    "editable": true
   },
   "source": [
    "After looking XYZCorp_Lending Data, we can also remove some of the variables, reasons are described below:\n",
    "    1. id and member_id all are unique    \n",
    "    2. plicy_code is always ==1\n",
    "    3. payment_plan has only 10 years\n",
    "    4. application_type is individual is around 0.99 % so this can also be removed\n",
    "    5. acc_now_delinq is 0 for 99.5% of the records\n",
    "    6. emp_title is not required\n",
    "    7. zip_code is not required\n",
    "    8. title can be removed\n",
    "     \n",
    "    \n"
   ]
  },
  {
   "cell_type": "code",
   "execution_count": 16,
   "metadata": {
    "collapsed": true,
    "deletable": true,
    "editable": true
   },
   "outputs": [],
   "source": [
    "vars_must_removed= ['id','member_id','policy_code', 'application_type', 'pymnt_plan','acc_now_delinq','emp_title',\\\n",
    "                    'zip_code','title']"
   ]
  },
  {
   "cell_type": "code",
   "execution_count": 17,
   "metadata": {
    "collapsed": true,
    "deletable": true,
    "editable": true
   },
   "outputs": [],
   "source": [
    "# drop the variables\n",
    "credit.drop(vars_must_removed, axis=1, inplace= True)"
   ]
  },
  {
   "cell_type": "code",
   "execution_count": 18,
   "metadata": {
    "collapsed": false,
    "deletable": true,
    "editable": true
   },
   "outputs": [
    {
     "name": "stdout",
     "output_type": "stream",
     "text": [
      "Number of remaining columns (features) in the given data is : 44\n",
      "Number of rows (entries) in the given data is : 855969\n"
     ]
    }
   ],
   "source": [
    "# Remaining rows and columns in data\n",
    "print(\"Number of remaining columns (features) in the given data is :\", credit.shape[1])\n",
    "print(\"Number of rows (entries) in the given data is :\" , credit.shape[0])"
   ]
  },
  {
   "cell_type": "code",
   "execution_count": 19,
   "metadata": {
    "collapsed": false,
    "deletable": true,
    "editable": true
   },
   "outputs": [
    {
     "data": {
      "text/plain": [
       "loan_amnt                     0.000000\n",
       "funded_amnt                   0.000000\n",
       "funded_amnt_inv               0.000000\n",
       "term                          0.000000\n",
       "int_rate                      0.000000\n",
       "installment                   0.000000\n",
       "grade                         0.000000\n",
       "sub_grade                     0.000000\n",
       "emp_length                    0.050307\n",
       "home_ownership                0.000000\n",
       "annual_inc                    0.000000\n",
       "verification_status           0.000000\n",
       "issue_d                       0.000000\n",
       "purpose                       0.000000\n",
       "addr_state                    0.000000\n",
       "dti                           0.000000\n",
       "delinq_2yrs                   0.000000\n",
       "earliest_cr_line              0.000000\n",
       "inq_last_6mths                0.000000\n",
       "mths_since_last_delinq        0.513818\n",
       "open_acc                      0.000000\n",
       "pub_rec                       0.000000\n",
       "revol_bal                     0.000000\n",
       "revol_util                    0.000521\n",
       "total_acc                     0.000000\n",
       "initial_list_status           0.000000\n",
       "out_prncp                     0.000000\n",
       "out_prncp_inv                 0.000000\n",
       "total_pymnt                   0.000000\n",
       "total_pymnt_inv               0.000000\n",
       "total_rec_prncp               0.000000\n",
       "total_rec_int                 0.000000\n",
       "total_rec_late_fee            0.000000\n",
       "recoveries                    0.000000\n",
       "collection_recovery_fee       0.000000\n",
       "last_pymnt_d                  0.010353\n",
       "last_pymnt_amnt               0.000000\n",
       "next_pymnt_d                  0.295538\n",
       "last_credit_pull_d            0.000058\n",
       "collections_12_mths_ex_med    0.000065\n",
       "tot_coll_amt                  0.078640\n",
       "tot_cur_bal                   0.078640\n",
       "total_rev_hi_lim              0.078640\n",
       "default_ind                   0.000000\n",
       "dtype: float64"
      ]
     },
     "execution_count": 19,
     "metadata": {},
     "output_type": "execute_result"
    }
   ],
   "source": [
    "# Check null values\n",
    "credit.isnull().sum()/len(credit)"
   ]
  },
  {
   "cell_type": "code",
   "execution_count": 20,
   "metadata": {
    "collapsed": true,
    "deletable": true,
    "editable": true
   },
   "outputs": [],
   "source": [
    "# Fill null value with mean\n",
    "credit['mths_since_last_delinq']=credit['mths_since_last_delinq'].fillna(credit['mths_since_last_delinq'].mean())"
   ]
  },
  {
   "cell_type": "code",
   "execution_count": 21,
   "metadata": {
    "collapsed": false,
    "deletable": true,
    "editable": true
   },
   "outputs": [
    {
     "data": {
      "text/plain": [
       "Feb-2016    534094\n",
       "Jan-2016     68838\n",
       "Mar-2016        66\n",
       "Name: next_pymnt_d, dtype: int64"
      ]
     },
     "execution_count": 21,
     "metadata": {},
     "output_type": "execute_result"
    }
   ],
   "source": [
    "# Check next payment date and their values\n",
    "credit['next_pymnt_d'].value_counts()"
   ]
  },
  {
   "cell_type": "code",
   "execution_count": 22,
   "metadata": {
    "collapsed": true,
    "deletable": true,
    "editable": true
   },
   "outputs": [],
   "source": [
    "# Fill null values with mode\n",
    "credit['next_pymnt_d']=credit['next_pymnt_d'].fillna('Feb-2016')"
   ]
  },
  {
   "cell_type": "code",
   "execution_count": 23,
   "metadata": {
    "collapsed": false,
    "deletable": true,
    "editable": true
   },
   "outputs": [
    {
     "data": {
      "text/plain": [
       "Feb-2016    787065\n",
       "Jan-2016     68838\n",
       "Mar-2016        66\n",
       "Name: next_pymnt_d, dtype: int64"
      ]
     },
     "execution_count": 23,
     "metadata": {},
     "output_type": "execute_result"
    }
   ],
   "source": [
    "# Again check next payment date\n",
    "credit['next_pymnt_d'].value_counts()"
   ]
  },
  {
   "cell_type": "code",
   "execution_count": 24,
   "metadata": {
    "collapsed": false,
    "deletable": true,
    "editable": true
   },
   "outputs": [
    {
     "data": {
      "text/plain": [
       "loan_amnt                     0.000000\n",
       "funded_amnt                   0.000000\n",
       "funded_amnt_inv               0.000000\n",
       "term                          0.000000\n",
       "int_rate                      0.000000\n",
       "installment                   0.000000\n",
       "grade                         0.000000\n",
       "sub_grade                     0.000000\n",
       "emp_length                    5.030673\n",
       "home_ownership                0.000000\n",
       "annual_inc                    0.000000\n",
       "verification_status           0.000000\n",
       "issue_d                       0.000000\n",
       "purpose                       0.000000\n",
       "addr_state                    0.000000\n",
       "dti                           0.000000\n",
       "delinq_2yrs                   0.000000\n",
       "earliest_cr_line              0.000000\n",
       "inq_last_6mths                0.000000\n",
       "mths_since_last_delinq        0.000000\n",
       "open_acc                      0.000000\n",
       "pub_rec                       0.000000\n",
       "revol_bal                     0.000000\n",
       "revol_util                    0.052105\n",
       "total_acc                     0.000000\n",
       "initial_list_status           0.000000\n",
       "out_prncp                     0.000000\n",
       "out_prncp_inv                 0.000000\n",
       "total_pymnt                   0.000000\n",
       "total_pymnt_inv               0.000000\n",
       "total_rec_prncp               0.000000\n",
       "total_rec_int                 0.000000\n",
       "total_rec_late_fee            0.000000\n",
       "recoveries                    0.000000\n",
       "collection_recovery_fee       0.000000\n",
       "last_pymnt_d                  1.035318\n",
       "last_pymnt_amnt               0.000000\n",
       "next_pymnt_d                  0.000000\n",
       "last_credit_pull_d            0.005841\n",
       "collections_12_mths_ex_med    0.006542\n",
       "tot_coll_amt                  7.863953\n",
       "tot_cur_bal                   7.863953\n",
       "total_rev_hi_lim              7.863953\n",
       "default_ind                   0.000000\n",
       "dtype: float64"
      ]
     },
     "execution_count": 24,
     "metadata": {},
     "output_type": "execute_result"
    }
   ],
   "source": [
    "# Check remaining null values and their percent\n",
    "credit.isnull().sum()/len(credit)*100"
   ]
  },
  {
   "cell_type": "code",
   "execution_count": 25,
   "metadata": {
    "collapsed": true,
    "deletable": true,
    "editable": true
   },
   "outputs": [],
   "source": [
    "# Remove all null values from the data\n",
    "credit=credit.dropna()"
   ]
  },
  {
   "cell_type": "code",
   "execution_count": 26,
   "metadata": {
    "collapsed": false,
    "deletable": true,
    "editable": true
   },
   "outputs": [
    {
     "name": "stdout",
     "output_type": "stream",
     "text": [
      "Number of remaining columns (features) in the given data is : 44\n",
      "Number of rows (entries) in the given data is : 739035\n"
     ]
    }
   ],
   "source": [
    "# Remaining rows and columns  \n",
    "print(\"Number of remaining columns (features) in the given data is :\", credit.shape[1])\n",
    "print(\"Number of rows (entries) in the given data is :\" , credit.shape[0])"
   ]
  },
  {
   "cell_type": "code",
   "execution_count": 27,
   "metadata": {
    "collapsed": false,
    "deletable": true,
    "editable": true
   },
   "outputs": [
    {
     "name": "stdout",
     "output_type": "stream",
     "text": [
      "There are remaining 44 columns:\n",
      "loan_amnt ,funded_amnt ,funded_amnt_inv ,term ,int_rate ,installment ,grade ,sub_grade ,emp_length ,home_ownership ,annual_inc ,verification_status ,issue_d ,purpose ,addr_state ,dti ,delinq_2yrs ,earliest_cr_line ,inq_last_6mths ,mths_since_last_delinq ,open_acc ,pub_rec ,revol_bal ,revol_util ,total_acc ,initial_list_status ,out_prncp ,out_prncp_inv ,total_pymnt ,total_pymnt_inv ,total_rec_prncp ,total_rec_int ,total_rec_late_fee ,recoveries ,collection_recovery_fee ,last_pymnt_d ,last_pymnt_amnt ,next_pymnt_d ,last_credit_pull_d ,collections_12_mths_ex_med ,tot_coll_amt ,tot_cur_bal ,total_rev_hi_lim ,default_ind ,"
     ]
    }
   ],
   "source": [
    "# Columns names of all variables\n",
    "print('There are remaining', len(credit.columns), 'columns:')\n",
    "for x in credit.columns:\n",
    "    print(x+ ' ', end= ',')"
   ]
  },
  {
   "cell_type": "markdown",
   "metadata": {
    "deletable": true,
    "editable": true
   },
   "source": [
    "# Categorical Plot"
   ]
  },
  {
   "cell_type": "code",
   "execution_count": 28,
   "metadata": {
    "collapsed": false,
    "deletable": true,
    "editable": true
   },
   "outputs": [
    {
     "data": {
      "text/plain": [
       "<matplotlib.axes._subplots.AxesSubplot at 0x23f802421d0>"
      ]
     },
     "execution_count": 28,
     "metadata": {},
     "output_type": "execute_result"
    },
    {
     "data": {
      "image/png": "[encoded data removed]",
      "text/plain": [
       "<matplotlib.figure.Figure at 0x23f803162e8>"
      ]
     },
     "metadata": {},
     "output_type": "display_data"
    },
    {
     "data": {
      "image/png": "[encoded data removed]",
      "text/plain": [
       "<matplotlib.figure.Figure at 0x23f800ca5c0>"
      ]
     },
     "metadata": {},
     "output_type": "display_data"
    },
    {
     "data": {
      "image/png": "[encoded data removed]",
      "text/plain": [
       "<matplotlib.figure.Figure at 0x23f8007bb70>"
      ]
     },
     "metadata": {},
     "output_type": "display_data"
    },
    {
     "data": {
      "image/png": "[encoded data removed]",
      "text/plain": [
       "<matplotlib.figure.Figure at 0x23f80228c18>"
      ]
     },
     "metadata": {},
     "output_type": "display_data"
    },
    {
     "data": {
      "image/png": "[encoded data removed]",
      "text/plain": [
       "<matplotlib.figure.Figure at 0x23f80221d30>"
      ]
     },
     "metadata": {},
     "output_type": "display_data"
    }
   ],
   "source": [
    "grade=credit['grade'].value_counts()\n",
    "plt.figure(figsize=(12,5))\n",
    "plt.title('Grades of Loans')\n",
    "plt.ylabel('Borrowers')\n",
    "plt.xlabel('grade')\n",
    "sns.barplot(x=grade.index, y=grade.values)\n",
    "\n",
    "home=credit['home_ownership'].value_counts()\n",
    "plt.figure(figsize=(12,5))\n",
    "plt.title('Types of Home')\n",
    "plt.xlabel('home_ownership')\n",
    "plt.ylabel('Borrowers')\n",
    "sns.barplot(x=home.index, y=home.values)\n",
    "\n",
    "purpose=credit['purpose'].value_counts()\n",
    "plt.figure(figsize=(12,5))\n",
    "plt.title('Purpose of The Loan')\n",
    "plt.ylabel('Borrowers')\n",
    "plt.xlabel('purpose')\n",
    "sns.barplot(x=purpose.index, y=purpose.values)\n",
    "\n",
    "verifi_status= credit['verification_status'].value_counts()\n",
    "plt.figure(figsize=(12,5))\n",
    "plt.title('Loan Verification Status')\n",
    "plt.ylabel('Borrowers')\n",
    "plt.xlabel('verification_status')\n",
    "sns.barplot(x=verifi_status.index , y=verifi_status.values)\n",
    "\n",
    "default=credit['default_ind'].value_counts()\n",
    "plt.figure(figsize=(12,5))\n",
    "plt.title('Loan Status')\n",
    "plt.ylabel('Borrowers')\n",
    "plt.xlabel('default_ind')\n",
    "sns.barplot(x=default.index, y= default.values)"
   ]
  },
  {
   "cell_type": "markdown",
   "metadata": {
    "deletable": true,
    "editable": true
   },
   "source": [
    "# Numerical Variables"
   ]
  },
  {
   "cell_type": "code",
   "execution_count": 29,
   "metadata": {
    "collapsed": false,
    "deletable": true,
    "editable": true
   },
   "outputs": [
    {
     "data": {
      "text/plain": [
       "<matplotlib.axes._subplots.AxesSubplot at 0x23f801d2e80>"
      ]
     },
     "execution_count": 29,
     "metadata": {},
     "output_type": "execute_result"
    },
    {
     "data": {
      "image/png": "[encoded data removed]",
      "text/plain": [
       "<matplotlib.figure.Figure at 0x23f803287f0>"
      ]
     },
     "metadata": {},
     "output_type": "display_data"
    },
    {
     "data": {
      "image/png": "[encoded data removed]",
      "text/plain": [
       "<matplotlib.figure.Figure at 0x23f80228f98>"
      ]
     },
     "metadata": {},
     "output_type": "display_data"
    },
    {
     "data": {
      "image/png": "[encoded data removed]",
      "text/plain": [
       "<matplotlib.figure.Figure at 0x23f802c7400>"
      ]
     },
     "metadata": {},
     "output_type": "display_data"
    }
   ],
   "source": [
    "plt.figure(figsize=(12,5))\n",
    "plt.title('Distribution of Interest Rate')\n",
    "sns.distplot(credit['int_rate'], color='r')\n",
    "\n",
    "plt.figure(figsize=(12,5))\n",
    "plt.title('Distribution of Loan Amount')\n",
    "sns.distplot(credit['loan_amnt'], color='b')\n",
    "\n",
    "plt.figure(figsize=(12,5))\n",
    "plt.title('Distribution of Installment')\n",
    "sns.distplot(credit['installment'], color='g')"
   ]
  },
  {
   "cell_type": "code",
   "execution_count": 30,
   "metadata": {
    "collapsed": true,
    "deletable": true,
    "editable": true
   },
   "outputs": [],
   "source": [
    "# Create new variables\n",
    "credit['amt_difference'] = 'eq'\n",
    "credit.loc[ ( credit['funded_amnt'] - credit['funded_amnt_inv']) > 0, 'amt_difference' ] = 'less'"
   ]
  },
  {
   "cell_type": "code",
   "execution_count": 31,
   "metadata": {
    "collapsed": false,
    "deletable": true,
    "editable": true
   },
   "outputs": [
    {
     "data": {
      "text/plain": [
       "array(['eq', 'less'], dtype=object)"
      ]
     },
     "execution_count": 31,
     "metadata": {},
     "output_type": "execute_result"
    }
   ],
   "source": [
    "# Check unique value in amt_difference\n",
    "credit['amt_difference'].unique()"
   ]
  },
  {
   "cell_type": "markdown",
   "metadata": {
    "deletable": true,
    "editable": true
   },
   "source": [
    "# Create new metric"
   ]
  },
  {
   "cell_type": "code",
   "execution_count": 32,
   "metadata": {
    "collapsed": true,
    "deletable": true,
    "editable": true
   },
   "outputs": [],
   "source": [
    "# Create new variable\n",
    "credit['acc_ratio'] = credit.open_acc / credit.total_acc"
   ]
  },
  {
   "cell_type": "markdown",
   "metadata": {
    "deletable": true,
    "editable": true
   },
   "source": [
    "# Variable Transformation"
   ]
  },
  {
   "cell_type": "code",
   "execution_count": 33,
   "metadata": {
    "collapsed": false,
    "deletable": true,
    "editable": true
   },
   "outputs": [
    {
     "name": "stderr",
     "output_type": "stream",
     "text": [
      "C:\\ProgramData\\Anaconda3\\lib\\site-packages\\ipykernel_launcher.py:5: FutureWarning: currently extract(expand=None) means expand=False (return Index/Series/DataFrame) but in a future version of pandas this will be changed to expand=True (return DataFrame)\n",
      "  \"\"\"\n"
     ]
    }
   ],
   "source": [
    "# strip months from 'term' and make it an int\n",
    "credit['term'] = credit['term'].str.split(' ').str[1]\n",
    "\n",
    "# extract numbers from emp_length and fill missing values with the median\n",
    "credit['emp_length'] = credit['emp_length'].str.extract('(\\d+)').astype(float)\n",
    "\n",
    "col_dates = credit.dtypes[credit.dtypes == 'datetime64[ns]'].index\n",
    "for d in col_dates:\n",
    "    credit[d] = credit[d].dt.to_period('M')"
   ]
  },
  {
   "cell_type": "markdown",
   "metadata": {
    "deletable": true,
    "editable": true
   },
   "source": [
    "# Outlier Detection"
   ]
  },
  {
   "cell_type": "code",
   "execution_count": 34,
   "metadata": {
    "collapsed": false,
    "deletable": true,
    "editable": true
   },
   "outputs": [
    {
     "data": {
      "text/plain": [
       "<matplotlib.axes._subplots.AxesSubplot at 0x23f97ddd3c8>"
      ]
     },
     "execution_count": 34,
     "metadata": {},
     "output_type": "execute_result"
    },
    {
     "data": {
      "image/png": "[encoded data removed]",
      "text/plain": [
       "<matplotlib.figure.Figure at 0x23f97dda6d8>"
      ]
     },
     "metadata": {},
     "output_type": "display_data"
    }
   ],
   "source": [
    "# Outlier detection in dti \n",
    "sns.boxplot(credit['dti'], orient= 'v')"
   ]
  },
  {
   "cell_type": "code",
   "execution_count": 35,
   "metadata": {
    "collapsed": false,
    "deletable": true,
    "editable": true
   },
   "outputs": [
    {
     "data": {
      "text/plain": [
       "<matplotlib.axes._subplots.AxesSubplot at 0x23f97e0d748>"
      ]
     },
     "execution_count": 35,
     "metadata": {},
     "output_type": "execute_result"
    },
    {
     "data": {
      "image/png": "[encoded data removed]",
      "text/plain": [
       "<matplotlib.figure.Figure at 0x23f97dffdd8>"
      ]
     },
     "metadata": {},
     "output_type": "display_data"
    }
   ],
   "source": [
    "# Remove outlier on the basis of class interval\n",
    "q = credit[\"dti\"].quantile(0.99)\n",
    "q\n",
    "credit = credit[ (credit[\"dti\"] <= q) | (credit[\"dti\"].isnull())]\n",
    "sns.boxplot(credit['dti'],orient= 'v')"
   ]
  },
  {
   "cell_type": "code",
   "execution_count": 36,
   "metadata": {
    "collapsed": false,
    "deletable": true,
    "editable": true
   },
   "outputs": [
    {
     "data": {
      "text/plain": [
       "<matplotlib.axes._subplots.AxesSubplot at 0x23f97e32d68>"
      ]
     },
     "execution_count": 36,
     "metadata": {},
     "output_type": "execute_result"
    },
    {
     "data": {
      "image/png": "[encoded data removed]",
      "text/plain": [
       "<matplotlib.figure.Figure at 0x23f97de90b8>"
      ]
     },
     "metadata": {},
     "output_type": "display_data"
    }
   ],
   "source": [
    "# Check outlier in 'total_rev_hi_lim'\n",
    "\n",
    "sns.boxplot(credit['total_rev_hi_lim'], orient='v')"
   ]
  },
  {
   "cell_type": "code",
   "execution_count": 37,
   "metadata": {
    "collapsed": false,
    "deletable": true,
    "editable": true
   },
   "outputs": [
    {
     "data": {
      "text/plain": [
       "<matplotlib.axes._subplots.AxesSubplot at 0x23f97e82748>"
      ]
     },
     "execution_count": 37,
     "metadata": {},
     "output_type": "execute_result"
    },
    {
     "data": {
      "image/png": "[encoded data removed]",
      "text/plain": [
       "<matplotlib.figure.Figure at 0x23f97e59278>"
      ]
     },
     "metadata": {},
     "output_type": "display_data"
    }
   ],
   "source": [
    "# Remove outlier on the basis of class interval\n",
    "\n",
    "r = credit['total_rev_hi_lim'].quantile(0.99)\n",
    "r\n",
    "credit = credit[ (credit['total_rev_hi_lim'] <= r) | (credit['total_rev_hi_lim'].isnull())]\n",
    "sns.boxplot(credit['total_rev_hi_lim'],orient= 'v')"
   ]
  },
  {
   "cell_type": "code",
   "execution_count": 38,
   "metadata": {
    "collapsed": false,
    "deletable": true,
    "editable": true
   },
   "outputs": [
    {
     "data": {
      "text/plain": [
       "(724338, 46)"
      ]
     },
     "execution_count": 38,
     "metadata": {},
     "output_type": "execute_result"
    }
   ],
   "source": [
    "# Row and cloumns in data\n",
    "credit.shape"
   ]
  },
  {
   "cell_type": "markdown",
   "metadata": {
    "deletable": true,
    "editable": true
   },
   "source": [
    "# Features Selection For Model"
   ]
  },
  {
   "cell_type": "code",
   "execution_count": 39,
   "metadata": {
    "collapsed": true,
    "deletable": true,
    "editable": true
   },
   "outputs": [],
   "source": [
    "# Features selection\n",
    "features= ['loan_amnt', 'amt_difference', 'term', 'installment', 'grade','emp_length','home_ownership', 'annual_inc', \\\n",
    "           'verification_status', 'purpose', 'dti','pub_rec','acc_ratio', 'initial_list_status', 'issue_d','default_ind']"
   ]
  },
  {
   "cell_type": "code",
   "execution_count": 40,
   "metadata": {
    "collapsed": true,
    "deletable": true,
    "editable": true
   },
   "outputs": [],
   "source": [
    "# Extract features from data\n",
    "status= credit[features]"
   ]
  },
  {
   "cell_type": "code",
   "execution_count": 41,
   "metadata": {
    "collapsed": false,
    "deletable": true,
    "editable": true
   },
   "outputs": [
    {
     "data": {
      "text/plain": [
       "<bound method NDFrame.head of         loan_amnt amt_difference term  installment grade  emp_length  \\\n",
       "39694     27050.0             eq   36       885.46     B        10.0   \n",
       "39695      9750.0             eq   36       333.14     C         1.0   \n",
       "39696     12000.0             eq   36       368.45     A        10.0   \n",
       "39697     12000.0             eq   36       407.40     B        10.0   \n",
       "39698     15000.0             eq   36       476.30     A         2.0   \n",
       "39699     12000.0             eq   36       398.52     B        10.0   \n",
       "39700     14000.0             eq   36       470.71     B         4.0   \n",
       "39701      7550.0             eq   36       266.34     C         3.0   \n",
       "39702     10000.0             eq   36       321.13     B         7.0   \n",
       "39703      3000.0             eq   36       100.87     B        10.0   \n",
       "39704     12000.0             eq   36       373.94     A         3.0   \n",
       "39705     28000.0             eq   36       872.52     A         5.0   \n",
       "39706     27600.0             eq   60       730.78     D         6.0   \n",
       "39707     11100.0             eq   36       384.68     C        10.0   \n",
       "39708     24000.0             eq   36       814.80     B        10.0   \n",
       "39709     15000.0             eq   36       516.10     C        10.0   \n",
       "39710     12000.0             eq   36       392.81     B         4.0   \n",
       "39711      4800.0             eq   36       157.13     B         2.0   \n",
       "39712     20800.0             eq   36       706.16     B        10.0   \n",
       "39713     21000.0             eq   36       654.39     A         9.0   \n",
       "39714     10000.0             eq   36       332.10     B        10.0   \n",
       "39715      4500.0             eq   36       165.46     D        10.0   \n",
       "39716     20000.0             eq   60       488.92     C         3.0   \n",
       "39717      7200.0             eq   36       235.69     B         4.0   \n",
       "39718     20000.0             eq   36       683.36     C        10.0   \n",
       "39719     31825.0             eq   60       852.05     E        10.0   \n",
       "39720     10000.0             eq   60       232.58     C         5.0   \n",
       "39721     18450.0             eq   36       630.40     C        10.0   \n",
       "39722     10000.0             eq   36       321.13     B         9.0   \n",
       "39723      5000.0             eq   36       169.75     B        10.0   \n",
       "...           ...            ...  ...          ...   ...         ...   \n",
       "855936     6000.0             eq   36       194.99     B         4.0   \n",
       "855937    17000.0             eq   60       413.32     D        10.0   \n",
       "855938    13000.0             eq   36       408.52     A        10.0   \n",
       "855939    20000.0             eq   36       617.46     A         2.0   \n",
       "855940    10300.0             eq   60       237.86     C        10.0   \n",
       "855941     4200.0             eq   36       147.64     D        10.0   \n",
       "855942    15000.0             eq   36       498.15     B         1.0   \n",
       "855943    15000.0             eq   60       329.44     B         4.0   \n",
       "855944     6000.0             eq   36       216.50     D        10.0   \n",
       "855946    23000.0             eq   60       554.32     D        10.0   \n",
       "855947    18700.0             eq   60       473.44     D        10.0   \n",
       "855948    25000.0             eq   60       607.82     D         3.0   \n",
       "855950    26500.0             eq   60       545.87     B        10.0   \n",
       "855951    21000.0             eq   36       639.15     A        10.0   \n",
       "855952     8000.0             eq   36       251.40     A         9.0   \n",
       "855953    12000.0             eq   36       384.34     B         4.0   \n",
       "855954    10775.0             eq   36       327.95     A         1.0   \n",
       "855955     7000.0             eq   36       240.30     C        10.0   \n",
       "855956     6225.0             eq   36       220.37     D         2.0   \n",
       "855957    10000.0             eq   36       306.45     A         1.0   \n",
       "855958    13150.0             eq   60       312.77     C         8.0   \n",
       "855959     4000.0             eq   36       126.59     B        10.0   \n",
       "855960     7500.0             eq   36       240.22     B         8.0   \n",
       "855962    12000.0             eq   36       398.52     B         1.0   \n",
       "855963    11575.0             eq   36       404.61     D        10.0   \n",
       "855964    10000.0             eq   36       332.10     B         8.0   \n",
       "855965    24000.0             eq   36       797.03     B        10.0   \n",
       "855966    13000.0             eq   60       316.07     D         5.0   \n",
       "855967    12000.0             eq   60       317.86     E         1.0   \n",
       "855968    20000.0             eq   36       664.20     B        10.0   \n",
       "\n",
       "       home_ownership  annual_inc verification_status             purpose  \\\n",
       "39694             OWN     55000.0            Verified  debt_consolidation   \n",
       "39695            RENT     26000.0        Not Verified  debt_consolidation   \n",
       "39696        MORTGAGE    105000.0        Not Verified  debt_consolidation   \n",
       "39697            RENT     40000.0     Source Verified  debt_consolidation   \n",
       "39698        MORTGAGE     63000.0        Not Verified  debt_consolidation   \n",
       "39699        MORTGAGE    130000.0     Source Verified  debt_consolidation   \n",
       "39700            RENT     88000.0        Not Verified  debt_consolidation   \n",
       "39701            RENT     28000.0        Not Verified  debt_consolidation   \n",
       "39702        MORTGAGE    102000.0        Not Verified  debt_consolidation   \n",
       "39703            RENT     25000.0            Verified  debt_consolidation   \n",
       "39704        MORTGAGE     96500.0        Not Verified  debt_consolidation   \n",
       "39705        MORTGAGE    325000.0     Source Verified  debt_consolidation   \n",
       "39706        MORTGAGE     73000.0     Source Verified  debt_consolidation   \n",
       "39707        MORTGAGE     90000.0        Not Verified               other   \n",
       "39708        MORTGAGE    100000.0            Verified         credit_card   \n",
       "39709            RENT     98000.0        Not Verified  debt_consolidation   \n",
       "39710            RENT     60000.0        Not Verified  debt_consolidation   \n",
       "39711        MORTGAGE     39600.0     Source Verified    home_improvement   \n",
       "39712            RENT     81500.0            Verified  debt_consolidation   \n",
       "39713        MORTGAGE    110000.0     Source Verified  debt_consolidation   \n",
       "39714        MORTGAGE     41000.0        Not Verified  debt_consolidation   \n",
       "39715            RENT    105000.0        Not Verified               other   \n",
       "39716            RENT     72000.0            Verified  debt_consolidation   \n",
       "39717             OWN     70000.0            Verified  debt_consolidation   \n",
       "39718        MORTGAGE     80000.0     Source Verified  debt_consolidation   \n",
       "39719        MORTGAGE     70000.0            Verified  debt_consolidation   \n",
       "39720            RENT     25000.0     Source Verified  debt_consolidation   \n",
       "39721            RENT     65000.0        Not Verified  debt_consolidation   \n",
       "39722             OWN     45000.0        Not Verified  debt_consolidation   \n",
       "39723             OWN     70000.0        Not Verified               other   \n",
       "...               ...         ...                 ...                 ...   \n",
       "855936           RENT     42000.0            Verified  debt_consolidation   \n",
       "855937       MORTGAGE     63078.0     Source Verified  debt_consolidation   \n",
       "855938       MORTGAGE     85000.0        Not Verified         credit_card   \n",
       "855939       MORTGAGE     72000.0     Source Verified  debt_consolidation   \n",
       "855940           RENT     93600.0     Source Verified  debt_consolidation   \n",
       "855941       MORTGAGE     48000.0            Verified             medical   \n",
       "855942           RENT     70000.0            Verified  debt_consolidation   \n",
       "855943           RENT     57000.0     Source Verified  debt_consolidation   \n",
       "855944       MORTGAGE     90000.0            Verified  debt_consolidation   \n",
       "855946       MORTGAGE     50000.0     Source Verified         credit_card   \n",
       "855947           RENT     52000.0     Source Verified  debt_consolidation   \n",
       "855948           RENT    103000.0     Source Verified  debt_consolidation   \n",
       "855950       MORTGAGE     92000.0            Verified  debt_consolidation   \n",
       "855951       MORTGAGE     65000.0     Source Verified         credit_card   \n",
       "855952       MORTGAGE     50000.0     Source Verified  debt_consolidation   \n",
       "855953           RENT     40000.0     Source Verified  debt_consolidation   \n",
       "855954           RENT     54000.0        Not Verified  debt_consolidation   \n",
       "855955           RENT     57000.0            Verified  debt_consolidation   \n",
       "855956           RENT     27000.0     Source Verified  debt_consolidation   \n",
       "855957           RENT     75000.0            Verified  debt_consolidation   \n",
       "855958       MORTGAGE     30000.0            Verified      major_purchase   \n",
       "855959       MORTGAGE     50000.0            Verified                 car   \n",
       "855960           RENT     40000.0            Verified  debt_consolidation   \n",
       "855962       MORTGAGE     63000.0            Verified         credit_card   \n",
       "855963           RENT     25400.0            Verified         credit_card   \n",
       "855964           RENT     31000.0            Verified  debt_consolidation   \n",
       "855965       MORTGAGE     79000.0            Verified    home_improvement   \n",
       "855966           RENT     35000.0            Verified  debt_consolidation   \n",
       "855967           RENT     64400.0     Source Verified  debt_consolidation   \n",
       "855968           RENT    100000.0            Verified         credit_card   \n",
       "\n",
       "          dti  pub_rec  acc_ratio initial_list_status   issue_d  default_ind  \n",
       "39694   22.87      0.0   0.518519                   w  Dec-2013            0  \n",
       "39695   25.12      0.0   0.428571                   f  Dec-2013            0  \n",
       "39696   14.05      0.0   0.545455                   w  Dec-2013            0  \n",
       "39697   16.94      2.0   0.218750                   w  Dec-2013            0  \n",
       "39698   16.51      0.0   0.275862                   w  Dec-2013            0  \n",
       "39699   13.03      0.0   0.473684                   f  Dec-2013            0  \n",
       "39700   10.02      1.0   0.428571                   f  Dec-2013            0  \n",
       "39701    8.40      0.0   0.800000                   w  Dec-2013            0  \n",
       "39702   15.55      0.0   0.409091                   f  Dec-2013            0  \n",
       "39703   24.68      2.0   0.192308                   f  Dec-2013            0  \n",
       "39704   12.61      0.0   0.566667                   f  Dec-2013            0  \n",
       "39705   18.55      0.0   0.483871                   w  Dec-2013            0  \n",
       "39706   23.13      0.0   0.416667                   f  Dec-2013            0  \n",
       "39707    3.73      0.0   0.750000                   f  Dec-2013            0  \n",
       "39708   22.18      0.0   0.358974                   w  Dec-2013            0  \n",
       "39709    6.15      0.0   1.000000                   f  Dec-2013            0  \n",
       "39710    4.62      0.0   0.833333                   f  Dec-2013            0  \n",
       "39711    2.49      0.0   0.375000                   w  Dec-2013            0  \n",
       "39712   16.73      0.0   0.707317                   f  Dec-2013            0  \n",
       "39713   13.68      0.0   0.361111                   f  Dec-2013            0  \n",
       "39714   25.79      1.0   0.625000                   w  Dec-2013            0  \n",
       "39715   16.23      0.0   0.500000                   f  Dec-2013            0  \n",
       "39716   16.42      1.0   0.343750                   f  Dec-2013            0  \n",
       "39717   19.20      1.0   0.285714                   f  Dec-2013            0  \n",
       "39718   16.70      1.0   0.384615                   f  Dec-2013            0  \n",
       "39719   26.49      0.0   0.358974                   w  Dec-2013            0  \n",
       "39720   27.03      0.0   0.590909                   f  Dec-2013            1  \n",
       "39721   15.84      0.0   0.437500                   f  Dec-2013            0  \n",
       "39722    8.91      0.0   0.642857                   w  Dec-2013            0  \n",
       "39723   22.56      0.0   0.342857                   w  Dec-2013            0  \n",
       "...       ...      ...        ...                 ...       ...          ...  \n",
       "855936  10.66      0.0   0.360000                   f  Jan-2015            0  \n",
       "855937  31.70      0.0   0.285714                   w  Jan-2015            0  \n",
       "855938   8.05      0.0   0.320000                   f  Jan-2015            0  \n",
       "855939  27.24      0.0   0.555556                   f  Jan-2015            0  \n",
       "855940  15.72      0.0   0.541667                   f  Jan-2015            0  \n",
       "855941  36.93      0.0   0.288889                   f  Jan-2015            1  \n",
       "855942   8.47      0.0   0.533333                   w  Jan-2015            0  \n",
       "855943  15.77      0.0   0.800000                   w  Jan-2015            0  \n",
       "855944   2.84      0.0   0.562500                   f  Jan-2015            0  \n",
       "855946  31.95      0.0   0.448276                   w  Jan-2015            0  \n",
       "855947  11.28      0.0   0.444444                   w  Jan-2015            0  \n",
       "855948   5.27      0.0   0.714286                   w  Jan-2015            0  \n",
       "855950  29.60      0.0   0.476190                   w  Jan-2015            0  \n",
       "855951  17.09      0.0   0.440000                   f  Jan-2015            0  \n",
       "855952  17.62      0.0   0.407407                   f  Jan-2015            0  \n",
       "855953  25.65      0.0   0.533333                   f  Jan-2015            0  \n",
       "855954  13.22      0.0   0.428571                   w  Jan-2015            0  \n",
       "855955  16.80      2.0   0.433333                   w  Jan-2015            0  \n",
       "855956  18.58      0.0   0.750000                   f  Jan-2015            0  \n",
       "855957  33.66      0.0   0.281250                   w  Jan-2015            0  \n",
       "855958   1.00      0.0   0.214286                   w  Jan-2015            0  \n",
       "855959  12.63      1.0   0.366667                   f  Jan-2015            0  \n",
       "855960  25.63      1.0   0.344828                   f  Jan-2015            0  \n",
       "855962  23.69      0.0   0.213115                   f  Jan-2015            0  \n",
       "855963  27.08      0.0   0.500000                   f  Jan-2015            0  \n",
       "855964  28.69      1.0   0.600000                   f  Jan-2015            0  \n",
       "855965   3.90      0.0   0.217391                   f  Jan-2015            0  \n",
       "855966  30.90      1.0   0.409091                   w  Jan-2015            0  \n",
       "855967  27.19      0.0   0.850000                   w  Jan-2015            0  \n",
       "855968  10.83      1.0   0.800000                   f  Jan-2015            0  \n",
       "\n",
       "[724338 rows x 16 columns]>"
      ]
     },
     "execution_count": 41,
     "metadata": {},
     "output_type": "execute_result"
    }
   ],
   "source": [
    "# Check features\n",
    "status.head"
   ]
  },
  {
   "cell_type": "code",
   "execution_count": 42,
   "metadata": {
    "collapsed": false,
    "deletable": true,
    "editable": true
   },
   "outputs": [
    {
     "data": {
      "text/plain": [
       "(724338, 16)"
      ]
     },
     "execution_count": 42,
     "metadata": {},
     "output_type": "execute_result"
    }
   ],
   "source": [
    "# Row and Columns in features\n",
    "status.shape"
   ]
  },
  {
   "cell_type": "code",
   "execution_count": 43,
   "metadata": {
    "collapsed": false,
    "deletable": true,
    "editable": true
   },
   "outputs": [
    {
     "name": "stdout",
     "output_type": "stream",
     "text": [
      "<class 'pandas.core.frame.DataFrame'>\n",
      "Int64Index: 724338 entries, 39694 to 855968\n",
      "Data columns (total 16 columns):\n",
      "loan_amnt              724338 non-null float64\n",
      "amt_difference         724338 non-null object\n",
      "term                   724338 non-null object\n",
      "installment            724338 non-null float64\n",
      "grade                  724338 non-null object\n",
      "emp_length             724338 non-null float64\n",
      "home_ownership         724338 non-null object\n",
      "annual_inc             724338 non-null float64\n",
      "verification_status    724338 non-null object\n",
      "purpose                724338 non-null object\n",
      "dti                    724338 non-null float64\n",
      "pub_rec                724338 non-null float64\n",
      "acc_ratio              724338 non-null float64\n",
      "initial_list_status    724338 non-null object\n",
      "issue_d                724338 non-null object\n",
      "default_ind            724338 non-null int64\n",
      "dtypes: float64(7), int64(1), object(8)\n",
      "memory usage: 93.9+ MB\n"
     ]
    }
   ],
   "source": [
    "# Data types information of features\n",
    "status.info()"
   ]
  },
  {
   "cell_type": "code",
   "execution_count": 44,
   "metadata": {
    "collapsed": true,
    "deletable": true,
    "editable": true
   },
   "outputs": [],
   "source": [
    "status_num = status.select_dtypes(include = ['float64','int64'])\n",
    "status_obj = status.select_dtypes(include = 'object')"
   ]
  },
  {
   "cell_type": "code",
   "execution_count": 45,
   "metadata": {
    "collapsed": false,
    "deletable": true,
    "editable": true
   },
   "outputs": [
    {
     "data": {
      "text/plain": [
       "Index(['loan_amnt', 'installment', 'emp_length', 'annual_inc', 'dti',\n",
       "       'pub_rec', 'acc_ratio', 'default_ind'],\n",
       "      dtype='object')"
      ]
     },
     "execution_count": 45,
     "metadata": {},
     "output_type": "execute_result"
    }
   ],
   "source": [
    "status_num.columns"
   ]
  },
  {
   "cell_type": "code",
   "execution_count": 46,
   "metadata": {
    "collapsed": false,
    "deletable": true,
    "editable": true
   },
   "outputs": [
    {
     "data": {
      "text/plain": [
       "Index(['amt_difference', 'term', 'grade', 'home_ownership',\n",
       "       'verification_status', 'purpose', 'initial_list_status', 'issue_d'],\n",
       "      dtype='object')"
      ]
     },
     "execution_count": 46,
     "metadata": {},
     "output_type": "execute_result"
    }
   ],
   "source": [
    "status_obj.columns"
   ]
  },
  {
   "cell_type": "code",
   "execution_count": 47,
   "metadata": {
    "collapsed": true,
    "deletable": true,
    "editable": true
   },
   "outputs": [],
   "source": [
    "from sklearn.preprocessing import MinMaxScaler"
   ]
  },
  {
   "cell_type": "code",
   "execution_count": 48,
   "metadata": {
    "collapsed": true,
    "deletable": true,
    "editable": true
   },
   "outputs": [],
   "source": [
    "mms= MinMaxScaler()"
   ]
  },
  {
   "cell_type": "code",
   "execution_count": 49,
   "metadata": {
    "collapsed": false,
    "deletable": true,
    "editable": true
   },
   "outputs": [
    {
     "name": "stderr",
     "output_type": "stream",
     "text": [
      "C:\\ProgramData\\Anaconda3\\lib\\site-packages\\pandas\\core\\indexing.py:537: SettingWithCopyWarning: \n",
      "A value is trying to be set on a copy of a slice from a DataFrame.\n",
      "Try using .loc[row_indexer,col_indexer] = value instead\n",
      "\n",
      "See the caveats in the documentation: http://pandas.pydata.org/pandas-docs/stable/indexing.html#indexing-view-versus-copy\n",
      "  self.obj[item] = s\n"
     ]
    }
   ],
   "source": [
    "status_num.loc[:, status_num.columns != \"default_ind\"] = mms.fit_transform(status_num.loc[:, status_num.columns !=\"default_ind\"])"
   ]
  },
  {
   "cell_type": "code",
   "execution_count": 50,
   "metadata": {
    "collapsed": false,
    "deletable": true,
    "editable": true
   },
   "outputs": [
    {
     "data": {
      "text/html": [
       "<div>\n",
       "<style scoped>\n",
       "    .dataframe tbody tr th:only-of-type {\n",
       "        vertical-align: middle;\n",
       "    }\n",
       "\n",
       "    .dataframe tbody tr th {\n",
       "        vertical-align: top;\n",
       "    }\n",
       "\n",
       "    .dataframe thead th {\n",
       "        text-align: right;\n",
       "    }\n",
       "</style>\n",
       "<table border=\"1\" class=\"dataframe\">\n",
       "  <thead>\n",
       "    <tr style=\"text-align: right;\">\n",
       "      <th></th>\n",
       "      <th>loan_amnt</th>\n",
       "      <th>installment</th>\n",
       "      <th>emp_length</th>\n",
       "      <th>annual_inc</th>\n",
       "      <th>dti</th>\n",
       "      <th>pub_rec</th>\n",
       "      <th>acc_ratio</th>\n",
       "      <th>default_ind</th>\n",
       "    </tr>\n",
       "  </thead>\n",
       "  <tbody>\n",
       "    <tr>\n",
       "      <th>39694</th>\n",
       "      <td>0.766176</td>\n",
       "      <td>0.606244</td>\n",
       "      <td>1.000000</td>\n",
       "      <td>0.005266</td>\n",
       "      <td>0.609867</td>\n",
       "      <td>0.000000</td>\n",
       "      <td>0.499259</td>\n",
       "      <td>0</td>\n",
       "    </tr>\n",
       "    <tr>\n",
       "      <th>39695</th>\n",
       "      <td>0.257353</td>\n",
       "      <td>0.217888</td>\n",
       "      <td>0.000000</td>\n",
       "      <td>0.002212</td>\n",
       "      <td>0.669867</td>\n",
       "      <td>0.000000</td>\n",
       "      <td>0.405714</td>\n",
       "      <td>0</td>\n",
       "    </tr>\n",
       "    <tr>\n",
       "      <th>39696</th>\n",
       "      <td>0.323529</td>\n",
       "      <td>0.242716</td>\n",
       "      <td>1.000000</td>\n",
       "      <td>0.010532</td>\n",
       "      <td>0.374667</td>\n",
       "      <td>0.000000</td>\n",
       "      <td>0.527273</td>\n",
       "      <td>0</td>\n",
       "    </tr>\n",
       "    <tr>\n",
       "      <th>39697</th>\n",
       "      <td>0.323529</td>\n",
       "      <td>0.270103</td>\n",
       "      <td>1.000000</td>\n",
       "      <td>0.003686</td>\n",
       "      <td>0.451733</td>\n",
       "      <td>0.023256</td>\n",
       "      <td>0.187500</td>\n",
       "      <td>0</td>\n",
       "    </tr>\n",
       "    <tr>\n",
       "      <th>39698</th>\n",
       "      <td>0.411765</td>\n",
       "      <td>0.318549</td>\n",
       "      <td>0.111111</td>\n",
       "      <td>0.006108</td>\n",
       "      <td>0.440267</td>\n",
       "      <td>0.000000</td>\n",
       "      <td>0.246897</td>\n",
       "      <td>0</td>\n",
       "    </tr>\n",
       "  </tbody>\n",
       "</table>\n",
       "</div>"
      ],
      "text/plain": [
       "       loan_amnt  installment  emp_length  annual_inc       dti   pub_rec  \\\n",
       "39694   0.766176     0.606244    1.000000    0.005266  0.609867  0.000000   \n",
       "39695   0.257353     0.217888    0.000000    0.002212  0.669867  0.000000   \n",
       "39696   0.323529     0.242716    1.000000    0.010532  0.374667  0.000000   \n",
       "39697   0.323529     0.270103    1.000000    0.003686  0.451733  0.023256   \n",
       "39698   0.411765     0.318549    0.111111    0.006108  0.440267  0.000000   \n",
       "\n",
       "       acc_ratio  default_ind  \n",
       "39694   0.499259            0  \n",
       "39695   0.405714            0  \n",
       "39696   0.527273            0  \n",
       "39697   0.187500            0  \n",
       "39698   0.246897            0  "
      ]
     },
     "execution_count": 50,
     "metadata": {},
     "output_type": "execute_result"
    }
   ],
   "source": [
    "status_num.head()"
   ]
  },
  {
   "cell_type": "code",
   "execution_count": 51,
   "metadata": {
    "collapsed": true,
    "deletable": true,
    "editable": true
   },
   "outputs": [],
   "source": [
    "status =status_num.join(status_obj)"
   ]
  },
  {
   "cell_type": "code",
   "execution_count": 52,
   "metadata": {
    "collapsed": false,
    "deletable": true,
    "editable": true
   },
   "outputs": [
    {
     "data": {
      "text/html": [
       "<div>\n",
       "<style scoped>\n",
       "    .dataframe tbody tr th:only-of-type {\n",
       "        vertical-align: middle;\n",
       "    }\n",
       "\n",
       "    .dataframe tbody tr th {\n",
       "        vertical-align: top;\n",
       "    }\n",
       "\n",
       "    .dataframe thead th {\n",
       "        text-align: right;\n",
       "    }\n",
       "</style>\n",
       "<table border=\"1\" class=\"dataframe\">\n",
       "  <thead>\n",
       "    <tr style=\"text-align: right;\">\n",
       "      <th></th>\n",
       "      <th>loan_amnt</th>\n",
       "      <th>installment</th>\n",
       "      <th>emp_length</th>\n",
       "      <th>annual_inc</th>\n",
       "      <th>dti</th>\n",
       "      <th>pub_rec</th>\n",
       "      <th>acc_ratio</th>\n",
       "      <th>default_ind</th>\n",
       "      <th>amt_difference</th>\n",
       "      <th>term</th>\n",
       "      <th>grade</th>\n",
       "      <th>home_ownership</th>\n",
       "      <th>verification_status</th>\n",
       "      <th>purpose</th>\n",
       "      <th>initial_list_status</th>\n",
       "      <th>issue_d</th>\n",
       "    </tr>\n",
       "  </thead>\n",
       "  <tbody>\n",
       "    <tr>\n",
       "      <th>39694</th>\n",
       "      <td>0.766176</td>\n",
       "      <td>0.606244</td>\n",
       "      <td>1.000000</td>\n",
       "      <td>0.005266</td>\n",
       "      <td>0.609867</td>\n",
       "      <td>0.000000</td>\n",
       "      <td>0.499259</td>\n",
       "      <td>0</td>\n",
       "      <td>eq</td>\n",
       "      <td>36</td>\n",
       "      <td>B</td>\n",
       "      <td>OWN</td>\n",
       "      <td>Verified</td>\n",
       "      <td>debt_consolidation</td>\n",
       "      <td>w</td>\n",
       "      <td>Dec-2013</td>\n",
       "    </tr>\n",
       "    <tr>\n",
       "      <th>39695</th>\n",
       "      <td>0.257353</td>\n",
       "      <td>0.217888</td>\n",
       "      <td>0.000000</td>\n",
       "      <td>0.002212</td>\n",
       "      <td>0.669867</td>\n",
       "      <td>0.000000</td>\n",
       "      <td>0.405714</td>\n",
       "      <td>0</td>\n",
       "      <td>eq</td>\n",
       "      <td>36</td>\n",
       "      <td>C</td>\n",
       "      <td>RENT</td>\n",
       "      <td>Not Verified</td>\n",
       "      <td>debt_consolidation</td>\n",
       "      <td>f</td>\n",
       "      <td>Dec-2013</td>\n",
       "    </tr>\n",
       "    <tr>\n",
       "      <th>39696</th>\n",
       "      <td>0.323529</td>\n",
       "      <td>0.242716</td>\n",
       "      <td>1.000000</td>\n",
       "      <td>0.010532</td>\n",
       "      <td>0.374667</td>\n",
       "      <td>0.000000</td>\n",
       "      <td>0.527273</td>\n",
       "      <td>0</td>\n",
       "      <td>eq</td>\n",
       "      <td>36</td>\n",
       "      <td>A</td>\n",
       "      <td>MORTGAGE</td>\n",
       "      <td>Not Verified</td>\n",
       "      <td>debt_consolidation</td>\n",
       "      <td>w</td>\n",
       "      <td>Dec-2013</td>\n",
       "    </tr>\n",
       "    <tr>\n",
       "      <th>39697</th>\n",
       "      <td>0.323529</td>\n",
       "      <td>0.270103</td>\n",
       "      <td>1.000000</td>\n",
       "      <td>0.003686</td>\n",
       "      <td>0.451733</td>\n",
       "      <td>0.023256</td>\n",
       "      <td>0.187500</td>\n",
       "      <td>0</td>\n",
       "      <td>eq</td>\n",
       "      <td>36</td>\n",
       "      <td>B</td>\n",
       "      <td>RENT</td>\n",
       "      <td>Source Verified</td>\n",
       "      <td>debt_consolidation</td>\n",
       "      <td>w</td>\n",
       "      <td>Dec-2013</td>\n",
       "    </tr>\n",
       "    <tr>\n",
       "      <th>39698</th>\n",
       "      <td>0.411765</td>\n",
       "      <td>0.318549</td>\n",
       "      <td>0.111111</td>\n",
       "      <td>0.006108</td>\n",
       "      <td>0.440267</td>\n",
       "      <td>0.000000</td>\n",
       "      <td>0.246897</td>\n",
       "      <td>0</td>\n",
       "      <td>eq</td>\n",
       "      <td>36</td>\n",
       "      <td>A</td>\n",
       "      <td>MORTGAGE</td>\n",
       "      <td>Not Verified</td>\n",
       "      <td>debt_consolidation</td>\n",
       "      <td>w</td>\n",
       "      <td>Dec-2013</td>\n",
       "    </tr>\n",
       "  </tbody>\n",
       "</table>\n",
       "</div>"
      ],
      "text/plain": [
       "       loan_amnt  installment  emp_length  annual_inc       dti   pub_rec  \\\n",
       "39694   0.766176     0.606244    1.000000    0.005266  0.609867  0.000000   \n",
       "39695   0.257353     0.217888    0.000000    0.002212  0.669867  0.000000   \n",
       "39696   0.323529     0.242716    1.000000    0.010532  0.374667  0.000000   \n",
       "39697   0.323529     0.270103    1.000000    0.003686  0.451733  0.023256   \n",
       "39698   0.411765     0.318549    0.111111    0.006108  0.440267  0.000000   \n",
       "\n",
       "       acc_ratio  default_ind amt_difference term grade home_ownership  \\\n",
       "39694   0.499259            0             eq   36     B            OWN   \n",
       "39695   0.405714            0             eq   36     C           RENT   \n",
       "39696   0.527273            0             eq   36     A       MORTGAGE   \n",
       "39697   0.187500            0             eq   36     B           RENT   \n",
       "39698   0.246897            0             eq   36     A       MORTGAGE   \n",
       "\n",
       "      verification_status             purpose initial_list_status   issue_d  \n",
       "39694            Verified  debt_consolidation                   w  Dec-2013  \n",
       "39695        Not Verified  debt_consolidation                   f  Dec-2013  \n",
       "39696        Not Verified  debt_consolidation                   w  Dec-2013  \n",
       "39697     Source Verified  debt_consolidation                   w  Dec-2013  \n",
       "39698        Not Verified  debt_consolidation                   w  Dec-2013  "
      ]
     },
     "execution_count": 52,
     "metadata": {},
     "output_type": "execute_result"
    }
   ],
   "source": [
    "status.head()"
   ]
  },
  {
   "cell_type": "code",
   "execution_count": 53,
   "metadata": {
    "collapsed": false,
    "deletable": true,
    "editable": true
   },
   "outputs": [
    {
     "data": {
      "text/plain": [
       "Index(['loan_amnt', 'installment', 'emp_length', 'annual_inc', 'dti',\n",
       "       'pub_rec', 'acc_ratio', 'default_ind', 'amt_difference', 'term',\n",
       "       'grade', 'home_ownership', 'verification_status', 'purpose',\n",
       "       'initial_list_status', 'issue_d'],\n",
       "      dtype='object')"
      ]
     },
     "execution_count": 53,
     "metadata": {},
     "output_type": "execute_result"
    }
   ],
   "source": [
    "# Name of the columns\n",
    "status.columns"
   ]
  },
  {
   "cell_type": "code",
   "execution_count": 54,
   "metadata": {
    "collapsed": true,
    "deletable": true,
    "editable": true
   },
   "outputs": [],
   "source": [
    "# Rearrange the order\n",
    "status =status[['loan_amnt', 'installment', 'emp_length', 'annual_inc', 'dti',\n",
    "       'pub_rec', 'acc_ratio', 'issue_d', 'amt_difference', 'term',\n",
    "       'grade', 'home_ownership', 'verification_status', 'purpose',\n",
    "       'initial_list_status', 'default_ind']]"
   ]
  },
  {
   "cell_type": "code",
   "execution_count": 55,
   "metadata": {
    "collapsed": false,
    "deletable": true,
    "editable": true
   },
   "outputs": [
    {
     "data": {
      "text/plain": [
       "array(['Dec-2013', 'Nov-2013', 'Oct-2013', 'Sep-2013', 'Aug-2013',\n",
       "       'Jul-2013', 'Jun-2013', 'May-2013', 'Apr-2013', 'Mar-2013',\n",
       "       'Feb-2013', 'Jan-2013', 'Dec-2012', 'Nov-2012', 'Oct-2012',\n",
       "       'Sep-2012', 'Aug-2012', 'Dec-2014', 'Nov-2014', 'Oct-2014',\n",
       "       'Sep-2014', 'Aug-2014', 'Jul-2014', 'Jun-2014', 'May-2014',\n",
       "       'Apr-2014', 'Mar-2014', 'Feb-2014', 'Jan-2014', 'Dec-2015',\n",
       "       'Nov-2015', 'Oct-2015', 'Sep-2015', 'Aug-2015', 'Jul-2015',\n",
       "       'Jun-2015', 'May-2015', 'Apr-2015', 'Mar-2015', 'Feb-2015',\n",
       "       'Jan-2015'], dtype=object)"
      ]
     },
     "execution_count": 55,
     "metadata": {},
     "output_type": "execute_result"
    }
   ],
   "source": [
    "status['issue_d'].unique()"
   ]
  },
  {
   "cell_type": "markdown",
   "metadata": {
    "deletable": true,
    "editable": true
   },
   "source": [
    "# Split the data"
   ]
  },
  {
   "cell_type": "markdown",
   "metadata": {
    "deletable": true,
    "editable": true
   },
   "source": [
    " train_range ( June 2007 - May 2015 ) and test_range ( June 2015 - Dec 2015 )"
   ]
  },
  {
   "cell_type": "code",
   "execution_count": 56,
   "metadata": {
    "collapsed": true,
    "deletable": true,
    "editable": true
   },
   "outputs": [],
   "source": [
    "# select test range data on the basis of month\n",
    "test_data_range = ['Jun-2015','Jul-2015','Aug-2015','Sep-20015', 'Oct-2015','Nov-2015', 'Dec-2015']"
   ]
  },
  {
   "cell_type": "code",
   "execution_count": 57,
   "metadata": {
    "collapsed": true,
    "deletable": true,
    "editable": true
   },
   "outputs": [],
   "source": [
    "# Extract test data from status variable\n",
    "test= status.loc[status['issue_d'].isin(test_data_range)]"
   ]
  },
  {
   "cell_type": "code",
   "execution_count": 58,
   "metadata": {
    "collapsed": true,
    "deletable": true,
    "editable": true
   },
   "outputs": [],
   "source": [
    "# Extract train data from status variable\n",
    "train= status.loc[-status['issue_d'].isin(test_data_range)]"
   ]
  },
  {
   "cell_type": "code",
   "execution_count": 59,
   "metadata": {
    "collapsed": false,
    "deletable": true,
    "editable": true
   },
   "outputs": [
    {
     "name": "stdout",
     "output_type": "stream",
     "text": [
      "(201416, 16) (522922, 16)\n"
     ]
    }
   ],
   "source": [
    "# Check rows and columns in Test and Train data sets\n",
    "print(test.shape, train.shape)"
   ]
  },
  {
   "cell_type": "code",
   "execution_count": 60,
   "metadata": {
    "collapsed": true,
    "deletable": true,
    "editable": true
   },
   "outputs": [],
   "source": [
    "# Select dummy variables in train data\n",
    "dummy= train.loc[:,train.dtypes==np.object]"
   ]
  },
  {
   "cell_type": "code",
   "execution_count": 61,
   "metadata": {
    "collapsed": false,
    "deletable": true,
    "editable": true
   },
   "outputs": [
    {
     "data": {
      "text/plain": [
       "Index(['issue_d', 'amt_difference', 'term', 'grade', 'home_ownership',\n",
       "       'verification_status', 'purpose', 'initial_list_status'],\n",
       "      dtype='object')"
      ]
     },
     "execution_count": 61,
     "metadata": {},
     "output_type": "execute_result"
    }
   ],
   "source": [
    "# Check columns in dummy \n",
    "dummy.columns"
   ]
  },
  {
   "cell_type": "code",
   "execution_count": 62,
   "metadata": {
    "collapsed": true,
    "deletable": true,
    "editable": true
   },
   "outputs": [],
   "source": [
    "# Remove issue_d from dummy\n",
    "dummy=dummy.drop('issue_d', axis= 1)"
   ]
  },
  {
   "cell_type": "code",
   "execution_count": 63,
   "metadata": {
    "collapsed": false,
    "deletable": true,
    "editable": true
   },
   "outputs": [
    {
     "data": {
      "text/plain": [
       "(522922, 7)"
      ]
     },
     "execution_count": 63,
     "metadata": {},
     "output_type": "execute_result"
    }
   ],
   "source": [
    "# Rows and columns in dummy\n",
    "dummy.shape"
   ]
  },
  {
   "cell_type": "code",
   "execution_count": 64,
   "metadata": {
    "collapsed": true,
    "deletable": true,
    "editable": true
   },
   "outputs": [],
   "source": [
    "# Create dummies \n",
    "dummy= pd.get_dummies(dummy)"
   ]
  },
  {
   "cell_type": "code",
   "execution_count": 65,
   "metadata": {
    "collapsed": false,
    "deletable": true,
    "editable": true
   },
   "outputs": [
    {
     "data": {
      "text/plain": [
       "(522922, 36)"
      ]
     },
     "execution_count": 65,
     "metadata": {},
     "output_type": "execute_result"
    }
   ],
   "source": [
    "# Rows and columns in dummy\n",
    "dummy.shape"
   ]
  },
  {
   "cell_type": "markdown",
   "metadata": {
    "deletable": true,
    "editable": true
   },
   "source": [
    "drop original columns"
   ]
  },
  {
   "cell_type": "code",
   "execution_count": 66,
   "metadata": {
    "collapsed": true,
    "deletable": true,
    "editable": true
   },
   "outputs": [],
   "source": [
    "# Remove dummy variable from train because it create duplication in train \n",
    "train = train.drop(['amt_difference', 'term', 'grade', 'home_ownership','verification_status', 'purpose', 'initial_list_status'], axis=1)"
   ]
  },
  {
   "cell_type": "code",
   "execution_count": 67,
   "metadata": {
    "collapsed": false,
    "deletable": true,
    "editable": true
   },
   "outputs": [
    {
     "data": {
      "text/plain": [
       "Index(['loan_amnt', 'installment', 'emp_length', 'annual_inc', 'dti',\n",
       "       'pub_rec', 'acc_ratio', 'issue_d', 'default_ind'],\n",
       "      dtype='object')"
      ]
     },
     "execution_count": 67,
     "metadata": {},
     "output_type": "execute_result"
    }
   ],
   "source": [
    "# check remaining columns in train\n",
    "train.columns"
   ]
  },
  {
   "cell_type": "code",
   "execution_count": 68,
   "metadata": {
    "collapsed": true,
    "deletable": true,
    "editable": true
   },
   "outputs": [],
   "source": [
    "# add dummy variable with train\n",
    "train= train.join(dummy)"
   ]
  },
  {
   "cell_type": "code",
   "execution_count": 69,
   "metadata": {
    "collapsed": false,
    "deletable": true,
    "editable": true
   },
   "outputs": [
    {
     "data": {
      "text/plain": [
       "(522922, 45)"
      ]
     },
     "execution_count": 69,
     "metadata": {},
     "output_type": "execute_result"
    }
   ],
   "source": [
    "# Rows and columns in train data\n",
    "train.shape"
   ]
  },
  {
   "cell_type": "code",
   "execution_count": 70,
   "metadata": {
    "collapsed": false,
    "deletable": true,
    "editable": true
   },
   "outputs": [
    {
     "data": {
      "text/plain": [
       "Index(['loan_amnt', 'installment', 'emp_length', 'annual_inc', 'dti',\n",
       "       'pub_rec', 'acc_ratio', 'issue_d', 'default_ind', 'amt_difference_eq',\n",
       "       'amt_difference_less', 'term_36', 'term_60', 'grade_A', 'grade_B',\n",
       "       'grade_C', 'grade_D', 'grade_E', 'grade_F', 'grade_G',\n",
       "       'home_ownership_ANY', 'home_ownership_MORTGAGE', 'home_ownership_NONE',\n",
       "       'home_ownership_OTHER', 'home_ownership_OWN', 'home_ownership_RENT',\n",
       "       'verification_status_Not Verified',\n",
       "       'verification_status_Source Verified', 'verification_status_Verified',\n",
       "       'purpose_car', 'purpose_credit_card', 'purpose_debt_consolidation',\n",
       "       'purpose_educational', 'purpose_home_improvement', 'purpose_house',\n",
       "       'purpose_major_purchase', 'purpose_medical', 'purpose_moving',\n",
       "       'purpose_other', 'purpose_renewable_energy', 'purpose_small_business',\n",
       "       'purpose_vacation', 'purpose_wedding', 'initial_list_status_f',\n",
       "       'initial_list_status_w'],\n",
       "      dtype='object')"
      ]
     },
     "execution_count": 70,
     "metadata": {},
     "output_type": "execute_result"
    }
   ],
   "source": [
    "# Check variables name in train data\n",
    "train.columns"
   ]
  },
  {
   "cell_type": "code",
   "execution_count": 71,
   "metadata": {
    "collapsed": true,
    "deletable": true,
    "editable": true
   },
   "outputs": [],
   "source": [
    "# Rearrange the order\n",
    "train= train[['loan_amnt', 'installment', 'emp_length', 'annual_inc', 'dti',\n",
    "       'pub_rec', 'acc_ratio', 'issue_d','amt_difference_eq',\n",
    "       'amt_difference_less', 'term_36', 'term_60', 'grade_A', 'grade_B',\n",
    "       'grade_C', 'grade_D', 'grade_E', 'grade_F', 'grade_G',\n",
    "       'home_ownership_ANY', 'home_ownership_MORTGAGE', 'home_ownership_NONE',\n",
    "       'home_ownership_OTHER', 'home_ownership_OWN', 'home_ownership_RENT',\n",
    "       'verification_status_Not Verified',\n",
    "       'verification_status_Source Verified', 'verification_status_Verified',\n",
    "       'purpose_car', 'purpose_credit_card', 'purpose_debt_consolidation',\n",
    "       'purpose_educational', 'purpose_home_improvement', 'purpose_house',\n",
    "       'purpose_major_purchase', 'purpose_medical', 'purpose_moving',\n",
    "       'purpose_other', 'purpose_renewable_energy', 'purpose_small_business',\n",
    "       'purpose_vacation', 'purpose_wedding', 'initial_list_status_f',\n",
    "       'initial_list_status_w','default_ind']]"
   ]
  },
  {
   "cell_type": "code",
   "execution_count": 72,
   "metadata": {
    "collapsed": true,
    "deletable": true,
    "editable": true
   },
   "outputs": [],
   "source": [
    "# Extract independent variables from train data\n",
    "x_train= train.iloc[:,:44]"
   ]
  },
  {
   "cell_type": "code",
   "execution_count": 73,
   "metadata": {
    "collapsed": false,
    "deletable": true,
    "editable": true
   },
   "outputs": [
    {
     "data": {
      "text/plain": [
       "Index(['loan_amnt', 'installment', 'emp_length', 'annual_inc', 'dti',\n",
       "       'pub_rec', 'acc_ratio', 'issue_d', 'amt_difference_eq',\n",
       "       'amt_difference_less', 'term_36', 'term_60', 'grade_A', 'grade_B',\n",
       "       'grade_C', 'grade_D', 'grade_E', 'grade_F', 'grade_G',\n",
       "       'home_ownership_ANY', 'home_ownership_MORTGAGE', 'home_ownership_NONE',\n",
       "       'home_ownership_OTHER', 'home_ownership_OWN', 'home_ownership_RENT',\n",
       "       'verification_status_Not Verified',\n",
       "       'verification_status_Source Verified', 'verification_status_Verified',\n",
       "       'purpose_car', 'purpose_credit_card', 'purpose_debt_consolidation',\n",
       "       'purpose_educational', 'purpose_home_improvement', 'purpose_house',\n",
       "       'purpose_major_purchase', 'purpose_medical', 'purpose_moving',\n",
       "       'purpose_other', 'purpose_renewable_energy', 'purpose_small_business',\n",
       "       'purpose_vacation', 'purpose_wedding', 'initial_list_status_f',\n",
       "       'initial_list_status_w'],\n",
       "      dtype='object')"
      ]
     },
     "execution_count": 73,
     "metadata": {},
     "output_type": "execute_result"
    }
   ],
   "source": [
    "# Check variables names in x_train\n",
    "x_train.columns"
   ]
  },
  {
   "cell_type": "code",
   "execution_count": 74,
   "metadata": {
    "collapsed": true,
    "deletable": true,
    "editable": true
   },
   "outputs": [],
   "source": [
    "# Extract dependent variables from train data\n",
    "y_train=train['default_ind']"
   ]
  },
  {
   "cell_type": "code",
   "execution_count": 75,
   "metadata": {
    "collapsed": false,
    "deletable": true,
    "editable": true
   },
   "outputs": [
    {
     "name": "stdout",
     "output_type": "stream",
     "text": [
      "(522922, 44) (522922,)\n"
     ]
    }
   ],
   "source": [
    "# Rows and columns in x_train and y_train\n",
    "print(x_train.shape, y_train.shape)"
   ]
  },
  {
   "cell_type": "code",
   "execution_count": 76,
   "metadata": {
    "collapsed": true,
    "deletable": true,
    "editable": true
   },
   "outputs": [],
   "source": [
    "# Extract object variables in dummy 1 variables\n",
    "dummy1= test.loc[:,test.dtypes==np.object]"
   ]
  },
  {
   "cell_type": "code",
   "execution_count": 77,
   "metadata": {
    "collapsed": false,
    "deletable": true,
    "editable": true
   },
   "outputs": [
    {
     "data": {
      "text/plain": [
       "Index(['issue_d', 'amt_difference', 'term', 'grade', 'home_ownership',\n",
       "       'verification_status', 'purpose', 'initial_list_status'],\n",
       "      dtype='object')"
      ]
     },
     "execution_count": 77,
     "metadata": {},
     "output_type": "execute_result"
    }
   ],
   "source": [
    "# Columns names in dummy1 variables\n",
    "dummy1.columns"
   ]
  },
  {
   "cell_type": "code",
   "execution_count": 78,
   "metadata": {
    "collapsed": true,
    "deletable": true,
    "editable": true
   },
   "outputs": [],
   "source": [
    "# drop issue_d from dummy1\n",
    "dummy1= dummy1.drop('issue_d', axis=1)"
   ]
  },
  {
   "cell_type": "code",
   "execution_count": 79,
   "metadata": {
    "collapsed": true,
    "deletable": true,
    "editable": true
   },
   "outputs": [],
   "source": [
    "# create dummy variable\n",
    "dummy1= pd.get_dummies(dummy1)"
   ]
  },
  {
   "cell_type": "code",
   "execution_count": 80,
   "metadata": {
    "collapsed": false,
    "deletable": true,
    "editable": true
   },
   "outputs": [
    {
     "data": {
      "text/plain": [
       "Index(['amt_difference_eq', 'amt_difference_less', 'term_36', 'term_60',\n",
       "       'grade_A', 'grade_B', 'grade_C', 'grade_D', 'grade_E', 'grade_F',\n",
       "       'grade_G', 'home_ownership_ANY', 'home_ownership_MORTGAGE',\n",
       "       'home_ownership_OWN', 'home_ownership_RENT',\n",
       "       'verification_status_Not Verified',\n",
       "       'verification_status_Source Verified', 'verification_status_Verified',\n",
       "       'purpose_car', 'purpose_credit_card', 'purpose_debt_consolidation',\n",
       "       'purpose_home_improvement', 'purpose_house', 'purpose_major_purchase',\n",
       "       'purpose_medical', 'purpose_moving', 'purpose_other',\n",
       "       'purpose_renewable_energy', 'purpose_small_business',\n",
       "       'purpose_vacation', 'purpose_wedding', 'initial_list_status_f',\n",
       "       'initial_list_status_w'],\n",
       "      dtype='object')"
      ]
     },
     "execution_count": 80,
     "metadata": {},
     "output_type": "execute_result"
    }
   ],
   "source": [
    "# Check columns names in dummy variables\n",
    "dummy1.columns"
   ]
  },
  {
   "cell_type": "code",
   "execution_count": 81,
   "metadata": {
    "collapsed": true,
    "deletable": true,
    "editable": true
   },
   "outputs": [],
   "source": [
    "# Drop object variables in test data\n",
    "test= test.drop(['amt_difference', 'term', 'grade', 'home_ownership','verification_status', 'purpose', 'initial_list_status'], axis=1)"
   ]
  },
  {
   "cell_type": "code",
   "execution_count": 82,
   "metadata": {
    "collapsed": false,
    "deletable": true,
    "editable": true
   },
   "outputs": [
    {
     "data": {
      "text/plain": [
       "Index(['loan_amnt', 'installment', 'emp_length', 'annual_inc', 'dti',\n",
       "       'pub_rec', 'acc_ratio', 'issue_d', 'default_ind'],\n",
       "      dtype='object')"
      ]
     },
     "execution_count": 82,
     "metadata": {},
     "output_type": "execute_result"
    }
   ],
   "source": [
    "# Columns name in test data variable\n",
    "test.columns"
   ]
  },
  {
   "cell_type": "code",
   "execution_count": 83,
   "metadata": {
    "collapsed": true,
    "deletable": true,
    "editable": true
   },
   "outputs": [],
   "source": [
    "# Join dummy variable with test\n",
    "test= test.join(dummy1)"
   ]
  },
  {
   "cell_type": "code",
   "execution_count": 84,
   "metadata": {
    "collapsed": false,
    "deletable": true,
    "editable": true
   },
   "outputs": [
    {
     "data": {
      "text/plain": [
       "Index(['loan_amnt', 'installment', 'emp_length', 'annual_inc', 'dti',\n",
       "       'pub_rec', 'acc_ratio', 'issue_d', 'default_ind', 'amt_difference_eq',\n",
       "       'amt_difference_less', 'term_36', 'term_60', 'grade_A', 'grade_B',\n",
       "       'grade_C', 'grade_D', 'grade_E', 'grade_F', 'grade_G',\n",
       "       'home_ownership_ANY', 'home_ownership_MORTGAGE', 'home_ownership_OWN',\n",
       "       'home_ownership_RENT', 'verification_status_Not Verified',\n",
       "       'verification_status_Source Verified', 'verification_status_Verified',\n",
       "       'purpose_car', 'purpose_credit_card', 'purpose_debt_consolidation',\n",
       "       'purpose_home_improvement', 'purpose_house', 'purpose_major_purchase',\n",
       "       'purpose_medical', 'purpose_moving', 'purpose_other',\n",
       "       'purpose_renewable_energy', 'purpose_small_business',\n",
       "       'purpose_vacation', 'purpose_wedding', 'initial_list_status_f',\n",
       "       'initial_list_status_w'],\n",
       "      dtype='object')"
      ]
     },
     "execution_count": 84,
     "metadata": {},
     "output_type": "execute_result"
    }
   ],
   "source": [
    "# print columns names in test data\n",
    "test.columns"
   ]
  },
  {
   "cell_type": "code",
   "execution_count": 85,
   "metadata": {
    "collapsed": true,
    "deletable": true,
    "editable": true
   },
   "outputs": [],
   "source": [
    "# Reorder variables in test data\n",
    "test= test[['loan_amnt', 'installment', 'emp_length', 'annual_inc', 'dti',\n",
    "       'pub_rec', 'acc_ratio', 'issue_d', 'amt_difference_eq',\n",
    "       'amt_difference_less', 'term_36', 'term_60', 'grade_A', 'grade_B',\n",
    "       'grade_C', 'grade_D', 'grade_E', 'grade_F', 'grade_G',\n",
    "       'home_ownership_ANY', 'home_ownership_MORTGAGE', 'home_ownership_OWN',\n",
    "       'home_ownership_RENT', 'verification_status_Not Verified',\n",
    "       'verification_status_Source Verified', 'verification_status_Verified',\n",
    "       'purpose_car', 'purpose_credit_card', 'purpose_debt_consolidation',\n",
    "       'purpose_home_improvement', 'purpose_house', 'purpose_major_purchase',\n",
    "       'purpose_medical', 'purpose_moving', 'purpose_other',\n",
    "       'purpose_renewable_energy', 'purpose_small_business',\n",
    "       'purpose_vacation', 'purpose_wedding', 'initial_list_status_f',\n",
    "\n",
    "            'initial_list_status_w', 'default_ind']]"
   ]
  },
  {
   "cell_type": "code",
   "execution_count": 86,
   "metadata": {
    "collapsed": false,
    "deletable": true,
    "editable": true
   },
   "outputs": [
    {
     "data": {
      "text/plain": [
       "(201416, 42)"
      ]
     },
     "execution_count": 86,
     "metadata": {},
     "output_type": "execute_result"
    }
   ],
   "source": [
    "# Rows and columns in test data\n",
    "test.shape"
   ]
  },
  {
   "cell_type": "code",
   "execution_count": 87,
   "metadata": {
    "collapsed": true,
    "deletable": true,
    "editable": true
   },
   "outputs": [],
   "source": [
    "# Extract independent variables from test data\n",
    "x_test=test.iloc[:,:41]"
   ]
  },
  {
   "cell_type": "code",
   "execution_count": 88,
   "metadata": {
    "collapsed": true,
    "deletable": true,
    "editable": true
   },
   "outputs": [],
   "source": [
    "# Extract dependent variables from test data\n",
    "y_test= test['default_ind']"
   ]
  },
  {
   "cell_type": "code",
   "execution_count": 89,
   "metadata": {
    "collapsed": false,
    "deletable": true,
    "editable": true
   },
   "outputs": [
    {
     "name": "stdout",
     "output_type": "stream",
     "text": [
      "(522922, 44) (201416, 41) (522922,) (201416,)\n"
     ]
    }
   ],
   "source": [
    "# Rows and columns in model\n",
    "print(x_train.shape, x_test.shape, y_train.shape, y_test.shape)"
   ]
  },
  {
   "cell_type": "code",
   "execution_count": 90,
   "metadata": {
    "collapsed": false,
    "deletable": true,
    "editable": true
   },
   "outputs": [
    {
     "name": "stdout",
     "output_type": "stream",
     "text": [
      "Index(['loan_amnt', 'installment', 'emp_length', 'annual_inc', 'dti',\n",
      "       'pub_rec', 'acc_ratio', 'issue_d', 'amt_difference_eq',\n",
      "       'amt_difference_less', 'term_36', 'term_60', 'grade_A', 'grade_B',\n",
      "       'grade_C', 'grade_D', 'grade_E', 'grade_F', 'grade_G',\n",
      "       'home_ownership_ANY', 'home_ownership_MORTGAGE', 'home_ownership_NONE',\n",
      "       'home_ownership_OTHER', 'home_ownership_OWN', 'home_ownership_RENT',\n",
      "       'verification_status_Not Verified',\n",
      "       'verification_status_Source Verified', 'verification_status_Verified',\n",
      "       'purpose_car', 'purpose_credit_card', 'purpose_debt_consolidation',\n",
      "       'purpose_educational', 'purpose_home_improvement', 'purpose_house',\n",
      "       'purpose_major_purchase', 'purpose_medical', 'purpose_moving',\n",
      "       'purpose_other', 'purpose_renewable_energy', 'purpose_small_business',\n",
      "       'purpose_vacation', 'purpose_wedding', 'initial_list_status_f',\n",
      "       'initial_list_status_w'],\n",
      "      dtype='object') Index(['loan_amnt', 'installment', 'emp_length', 'annual_inc', 'dti',\n",
      "       'pub_rec', 'acc_ratio', 'issue_d', 'amt_difference_eq',\n",
      "       'amt_difference_less', 'term_36', 'term_60', 'grade_A', 'grade_B',\n",
      "       'grade_C', 'grade_D', 'grade_E', 'grade_F', 'grade_G',\n",
      "       'home_ownership_ANY', 'home_ownership_MORTGAGE', 'home_ownership_OWN',\n",
      "       'home_ownership_RENT', 'verification_status_Not Verified',\n",
      "       'verification_status_Source Verified', 'verification_status_Verified',\n",
      "       'purpose_car', 'purpose_credit_card', 'purpose_debt_consolidation',\n",
      "       'purpose_home_improvement', 'purpose_house', 'purpose_major_purchase',\n",
      "       'purpose_medical', 'purpose_moving', 'purpose_other',\n",
      "       'purpose_renewable_energy', 'purpose_small_business',\n",
      "       'purpose_vacation', 'purpose_wedding', 'initial_list_status_f',\n",
      "       'initial_list_status_w'],\n",
      "      dtype='object')\n"
     ]
    }
   ],
   "source": [
    "# For compare columns in test and train data \n",
    "print(x_train.columns, x_test.columns)"
   ]
  },
  {
   "cell_type": "code",
   "execution_count": 91,
   "metadata": {
    "collapsed": true,
    "deletable": true,
    "editable": true
   },
   "outputs": [],
   "source": [
    "# These columns are not present in x_test data so these are remove from x_train data\n",
    "x_train.drop(['home_ownership_NONE', 'home_ownership_OTHER', 'purpose_educational'], axis= 1, inplace= True)"
   ]
  },
  {
   "cell_type": "code",
   "execution_count": 92,
   "metadata": {
    "collapsed": false,
    "deletable": true,
    "editable": true
   },
   "outputs": [
    {
     "name": "stdout",
     "output_type": "stream",
     "text": [
      "(522922, 41)\n",
      "(201416, 41)\n",
      "(522922,)\n",
      "(201416,)\n"
     ]
    }
   ],
   "source": [
    "# Total rows and columns\n",
    "print(x_train.shape)\n",
    "print(x_test.shape)\n",
    "print(y_train.shape)\n",
    "print(y_test.shape)"
   ]
  },
  {
   "cell_type": "code",
   "execution_count": 93,
   "metadata": {
    "collapsed": false,
    "deletable": true,
    "editable": true
   },
   "outputs": [
    {
     "name": "stdout",
     "output_type": "stream",
     "text": [
      "<class 'pandas.core.frame.DataFrame'>\n",
      "Int64Index: 522922 entries, 39694 to 855968\n",
      "Data columns (total 41 columns):\n",
      "loan_amnt                              522922 non-null float64\n",
      "installment                            522922 non-null float64\n",
      "emp_length                             522922 non-null float64\n",
      "annual_inc                             522922 non-null float64\n",
      "dti                                    522922 non-null float64\n",
      "pub_rec                                522922 non-null float64\n",
      "acc_ratio                              522922 non-null float64\n",
      "issue_d                                522922 non-null object\n",
      "amt_difference_eq                      522922 non-null uint8\n",
      "amt_difference_less                    522922 non-null uint8\n",
      "term_36                                522922 non-null uint8\n",
      "term_60                                522922 non-null uint8\n",
      "grade_A                                522922 non-null uint8\n",
      "grade_B                                522922 non-null uint8\n",
      "grade_C                                522922 non-null uint8\n",
      "grade_D                                522922 non-null uint8\n",
      "grade_E                                522922 non-null uint8\n",
      "grade_F                                522922 non-null uint8\n",
      "grade_G                                522922 non-null uint8\n",
      "home_ownership_ANY                     522922 non-null uint8\n",
      "home_ownership_MORTGAGE                522922 non-null uint8\n",
      "home_ownership_OWN                     522922 non-null uint8\n",
      "home_ownership_RENT                    522922 non-null uint8\n",
      "verification_status_Not Verified       522922 non-null uint8\n",
      "verification_status_Source Verified    522922 non-null uint8\n",
      "verification_status_Verified           522922 non-null uint8\n",
      "purpose_car                            522922 non-null uint8\n",
      "purpose_credit_card                    522922 non-null uint8\n",
      "purpose_debt_consolidation             522922 non-null uint8\n",
      "purpose_home_improvement               522922 non-null uint8\n",
      "purpose_house                          522922 non-null uint8\n",
      "purpose_major_purchase                 522922 non-null uint8\n",
      "purpose_medical                        522922 non-null uint8\n",
      "purpose_moving                         522922 non-null uint8\n",
      "purpose_other                          522922 non-null uint8\n",
      "purpose_renewable_energy               522922 non-null uint8\n",
      "purpose_small_business                 522922 non-null uint8\n",
      "purpose_vacation                       522922 non-null uint8\n",
      "purpose_wedding                        522922 non-null uint8\n",
      "initial_list_status_f                  522922 non-null uint8\n",
      "initial_list_status_w                  522922 non-null uint8\n",
      "dtypes: float64(7), object(1), uint8(33)\n",
      "memory usage: 72.4+ MB\n",
      "<class 'pandas.core.frame.DataFrame'>\n",
      "Int64Index: 201416 entries, 452272 to 735878\n",
      "Data columns (total 41 columns):\n",
      "loan_amnt                              201416 non-null float64\n",
      "installment                            201416 non-null float64\n",
      "emp_length                             201416 non-null float64\n",
      "annual_inc                             201416 non-null float64\n",
      "dti                                    201416 non-null float64\n",
      "pub_rec                                201416 non-null float64\n",
      "acc_ratio                              201416 non-null float64\n",
      "issue_d                                201416 non-null object\n",
      "amt_difference_eq                      201416 non-null uint8\n",
      "amt_difference_less                    201416 non-null uint8\n",
      "term_36                                201416 non-null uint8\n",
      "term_60                                201416 non-null uint8\n",
      "grade_A                                201416 non-null uint8\n",
      "grade_B                                201416 non-null uint8\n",
      "grade_C                                201416 non-null uint8\n",
      "grade_D                                201416 non-null uint8\n",
      "grade_E                                201416 non-null uint8\n",
      "grade_F                                201416 non-null uint8\n",
      "grade_G                                201416 non-null uint8\n",
      "home_ownership_ANY                     201416 non-null uint8\n",
      "home_ownership_MORTGAGE                201416 non-null uint8\n",
      "home_ownership_OWN                     201416 non-null uint8\n",
      "home_ownership_RENT                    201416 non-null uint8\n",
      "verification_status_Not Verified       201416 non-null uint8\n",
      "verification_status_Source Verified    201416 non-null uint8\n",
      "verification_status_Verified           201416 non-null uint8\n",
      "purpose_car                            201416 non-null uint8\n",
      "purpose_credit_card                    201416 non-null uint8\n",
      "purpose_debt_consolidation             201416 non-null uint8\n",
      "purpose_home_improvement               201416 non-null uint8\n",
      "purpose_house                          201416 non-null uint8\n",
      "purpose_major_purchase                 201416 non-null uint8\n",
      "purpose_medical                        201416 non-null uint8\n",
      "purpose_moving                         201416 non-null uint8\n",
      "purpose_other                          201416 non-null uint8\n",
      "purpose_renewable_energy               201416 non-null uint8\n",
      "purpose_small_business                 201416 non-null uint8\n",
      "purpose_vacation                       201416 non-null uint8\n",
      "purpose_wedding                        201416 non-null uint8\n",
      "initial_list_status_f                  201416 non-null uint8\n",
      "initial_list_status_w                  201416 non-null uint8\n",
      "dtypes: float64(7), object(1), uint8(33)\n",
      "memory usage: 25.2+ MB\n",
      "None None\n"
     ]
    }
   ],
   "source": [
    "# Data types informations of Test and Train data\n",
    "print(x_train.info(), x_test.info())"
   ]
  },
  {
   "cell_type": "code",
   "execution_count": 94,
   "metadata": {
    "collapsed": true,
    "deletable": true,
    "editable": true
   },
   "outputs": [],
   "source": [
    "# Drop issue_d from test and train data \n",
    "x_train= x_train.drop('issue_d', axis= 1)\n",
    "x_test= x_test.drop('issue_d', axis= 1)"
   ]
  },
  {
   "cell_type": "code",
   "execution_count": 95,
   "metadata": {
    "collapsed": false,
    "deletable": true,
    "editable": true
   },
   "outputs": [
    {
     "name": "stdout",
     "output_type": "stream",
     "text": [
      "(522922, 40)\n",
      "(201416, 40)\n",
      "(522922,)\n",
      "(201416,)\n"
     ]
    }
   ],
   "source": [
    "# Print all rows and columns in Test and Train\n",
    "print(x_train.shape)\n",
    "print(x_test.shape)\n",
    "print(y_train.shape)\n",
    "print(y_test.shape)"
   ]
  },
  {
   "cell_type": "markdown",
   "metadata": {
    "deletable": true,
    "editable": true
   },
   "source": [
    "# Proceed with Modeling. We will use the following algorithum\n",
    "1. Logistic Regression\n",
    "2. Decision Trees\n",
    "3. Random Forest"
   ]
  },
  {
   "cell_type": "markdown",
   "metadata": {
    "deletable": true,
    "editable": true
   },
   "source": [
    "# Logistic Regression"
   ]
  },
  {
   "cell_type": "code",
   "execution_count": 96,
   "metadata": {
    "collapsed": true,
    "deletable": true,
    "editable": true
   },
   "outputs": [],
   "source": [
    "from sklearn.linear_model import LogisticRegression\n",
    "from sklearn.metrics import confusion_matrix, accuracy_score\n",
    "lr= LogisticRegression()\n",
    "lr.fit(x_train, y_train)\n",
    "lr_predict= lr.predict(x_test)"
   ]
  },
  {
   "cell_type": "code",
   "execution_count": 97,
   "metadata": {
    "collapsed": false,
    "deletable": true,
    "editable": true
   },
   "outputs": [
    {
     "name": "stdout",
     "output_type": "stream",
     "text": [
      "[[201207      0]\n",
      " [   209      0]]\n",
      "99.89623465861699\n"
     ]
    }
   ],
   "source": [
    "# Print confusion Matrix and accuracy score\n",
    "lr_conf_matrix= confusion_matrix(y_test, lr_predict)\n",
    "lr_acc_score = accuracy_score(y_test, lr_predict)\n",
    "print(lr_conf_matrix)\n",
    "print(lr_acc_score*100)"
   ]
  },
  {
   "cell_type": "markdown",
   "metadata": {
    "deletable": true,
    "editable": true
   },
   "source": [
    "# 99 % accuracy with logistic regression! Let's see with Decision Trees gives us better accuracy"
   ]
  },
  {
   "cell_type": "code",
   "execution_count": 98,
   "metadata": {
    "collapsed": true,
    "deletable": true,
    "editable": true
   },
   "outputs": [],
   "source": [
    "from sklearn.tree import DecisionTreeClassifier\n",
    "dt = DecisionTreeClassifier ()\n",
    "dt.fit(x_train, y_train)\n",
    "dt_predict= dt.predict(x_test)"
   ]
  },
  {
   "cell_type": "code",
   "execution_count": 99,
   "metadata": {
    "collapsed": false,
    "deletable": true,
    "editable": true
   },
   "outputs": [
    {
     "name": "stdout",
     "output_type": "stream",
     "text": [
      "[[188562  12645]\n",
      " [   189     20]]\n",
      "93.6281129602415\n"
     ]
    }
   ],
   "source": [
    "# Print confusion Matrix and accuracy score\n",
    "dt_conf_matrix= confusion_matrix(y_test, dt_predict)\n",
    "dt_acc_score = accuracy_score(y_test, dt_predict)\n",
    "print(dt_conf_matrix)\n",
    "print(dt_acc_score*100)"
   ]
  },
  {
   "cell_type": "markdown",
   "metadata": {
    "deletable": true,
    "editable": true
   },
   "source": [
    "# 93% accuracy with Decision Trees. Lesser accuracy with Decision Trees ! Let's use Random forest Classifier now"
   ]
  },
  {
   "cell_type": "code",
   "execution_count": 100,
   "metadata": {
    "collapsed": true,
    "deletable": true,
    "editable": true
   },
   "outputs": [],
   "source": [
    "from sklearn.ensemble import RandomForestClassifier\n",
    "rf = RandomForestClassifier()\n",
    "rf.fit(x_train, y_train)\n",
    "rf_predict= rf.predict(x_test)"
   ]
  },
  {
   "cell_type": "code",
   "execution_count": 101,
   "metadata": {
    "collapsed": false,
    "deletable": true,
    "editable": true
   },
   "outputs": [
    {
     "name": "stdout",
     "output_type": "stream",
     "text": [
      "[[188562  12645]\n",
      " [   189     20]]\n",
      "99.77906422528498\n"
     ]
    }
   ],
   "source": [
    "# print confusion matrix and accuracy score\n",
    "rf_conf_matrix= confusion_matrix(y_test, dt_predict)\n",
    "rf_acc_score = accuracy_score(y_test, rf_predict)\n",
    "print(rf_conf_matrix)\n",
    "print(rf_acc_score*100)"
   ]
  },
  {
   "cell_type": "markdown",
   "metadata": {
    "deletable": true,
    "editable": true
   },
   "source": [
    "# 99% accuracy with Random Forest Classifier. Similar accuracy as Logistic Regression."
   ]
  },
  {
   "cell_type": "code",
   "execution_count": null,
   "metadata": {
    "collapsed": true,
    "deletable": true,
    "editable": true
   },
   "outputs": [],
   "source": []
  },
  {
   "cell_type": "code",
   "execution_count": null,
   "metadata": {
    "collapsed": true,
    "deletable": true,
    "editable": true
   },
   "outputs": [],
   "source": []
  },
  {
   "cell_type": "code",
   "execution_count": null,
   "metadata": {
    "collapsed": true,
    "deletable": true,
    "editable": true
   },
   "outputs": [],
   "source": [
    "\n"
   ]
  }
 ],
 "metadata": {
  "kernelspec": {
   "display_name": "Python 3",
   "language": "python",
   "name": "python3"
  },
  "language_info": {
   "codemirror_mode": {
    "name": "ipython",
    "version": 3
   },
   "file_extension": ".py",
   "mimetype": "text/x-python",
   "name": "python",
   "nbconvert_exporter": "python",
   "pygments_lexer": "ipython3",
   "version": "3.5.2"
  }
 },
 "nbformat": 4,
 "nbformat_minor": 2
}
